{
 "cells": [
  {
   "cell_type": "markdown",
   "metadata": {},
   "source": [
    "# Теоремы об исключении и продолжении"
   ]
  },
  {
   "cell_type": "markdown",
   "metadata": {},
   "source": [
    "## Упражнения к параграфу 1"
   ]
  },
  {
   "cell_type": "markdown",
   "metadata": {},
   "source": [
    "### Упражнение 2"
   ]
  },
  {
   "cell_type": "markdown",
   "metadata": {},
   "source": [
    "Рассмотрим систему уравнений $$x^2 + 2y^2 = 3$$\n",
    "                         $$x^2 + xy + y^2 = 3$$\n",
    "(a) Пусть $I = (x^2 + 2y^2 - 3, x^2 + xy + y^2 - 3)$ - соответствующий идеал.\n",
    "Найти базисы идеалов $I\\cap k[x]$ и $I\\cap k[y]$.\n",
    "\n",
    "(b) Найти все решения системы.\n",
    "\n",
    "(c) Определить, какие из этих решений рациональны.\n",
    "\n",
    "(d) Найти наименьшее поле $k$ такое, что все решения принадлежат $k^2$.\n",
    "\n",
    "**Решение.**\n",
    "\n",
    "По **теореме об исключении** базис $G_1$ идеала $I_1 = I\\cap k[x]$ равен $G \\cap k[x]$, где $G$ - базис Грёбнера идеала $I$.\n",
    "\n",
    "Тогда для начала найдём базис Грёбнера $G$ относительно лексикографического порядка $y > x$. Для этого нам понадобится функция $groebner$ из библиотеки $SymPy$."
   ]
  },
  {
   "cell_type": "code",
   "execution_count": 60,
   "metadata": {},
   "outputs": [
    {
     "name": "stdout",
     "output_type": "stream",
     "text": [
      "\n",
      "Базис Грёбнера относительно y > x:\n",
      "g1 = x**3 - 3*x + 2*y\n",
      "g2 = x**4 - 4*x**2 + 3\n"
     ]
    }
   ],
   "source": [
    "from sympy.polys.polytools import groebner\n",
    "from sympy.abc import x, y\n",
    "\n",
    "F = [y**2 + x*y + x**2 - 3, 2*y**2 + x**2 - 3]           # Идеал I\n",
    "G = groebner(F, y, x, order='lex')                       # Базис Грёбнера g\n",
    "\n",
    "print('\\nБазис Грёбнера относительно y > x:')\n",
    "\n",
    "def print_groebner(G):\n",
    "    if (len(G) > 0):\n",
    "        for i in range(len(G.exprs)):\n",
    "            print('g', i+1, ' = ', G.exprs[i], sep='')   # метод .exprs позволяет записать полином в виде красивого выражения\n",
    "    else:\n",
    "        print('is empty!')\n",
    "\n",
    "print_groebner(G)\n"
   ]
  },
  {
   "cell_type": "markdown",
   "metadata": {},
   "source": [
    "Теперь несложно найти $G_1 = G \\cap k[x]$:"
   ]
  },
  {
   "cell_type": "code",
   "execution_count": 61,
   "metadata": {},
   "outputs": [
    {
     "name": "stdout",
     "output_type": "stream",
     "text": [
      "\n",
      "Базис Грёбнера 1-ого исключающего идеала:\n",
      "g2 = x**4 - 4*x**2 + 3\n"
     ]
    }
   ],
   "source": [
    "from sympy import Poly, LC\n",
    "from sympy import solve, solve_poly_system\n",
    "\n",
    "poly_system = G.exprs\n",
    "\n",
    "def first_exclusion_step(var, poly_system, *args):\n",
    "    G_ex = []\n",
    "    I_next = []\n",
    "    index = 1\n",
    "    for pol in poly_system:\n",
    "        f = Poly(pol, *var)                                  # Представим каждое выражение как полином от переменной X\n",
    "        if f.free_symbols_in_domain.isdisjoint(set(args)):   # Если помимо переменной X в полиноме НЕТ свободной переменной Y,\n",
    "            G_ex.append((f.as_expr(), index))                # то этот полином содержится в G1\n",
    "        else:\n",
    "            I_next.append((Poly(f, args), index))            # Запомним отдельно полиномы, которые не содержатся в G1.\n",
    "        index += 1\n",
    "    return G_ex, I_next\n",
    "\n",
    "G1, I0 = first_exclusion_step([x], poly_system, y)\n",
    "\n",
    "print('\\nБазис Грёбнера 1-ого исключающего идеала:')\n",
    "\n",
    "def print_groebner_of_ex(G):\n",
    "    if (len(G) > 0):\n",
    "        for pol in G:\n",
    "            print('g', pol[1], ' = ', pol[0], sep='')\n",
    "    else:\n",
    "        print('is empty!')\n",
    "\n",
    "print_groebner_of_ex(G1)\n"
   ]
  },
  {
   "cell_type": "markdown",
   "metadata": {},
   "source": [
    "Аналогично найдём $G1 = G \\cap k[y]$. Для этого нам нужен лексикографический порядок $x > y$."
   ]
  },
  {
   "cell_type": "code",
   "execution_count": 62,
   "metadata": {},
   "outputs": [
    {
     "name": "stdout",
     "output_type": "stream",
     "text": [
      "\n",
      "Базис Грёбнера относительно x > y:\n",
      "g1 = x**2 + 2*y**2 - 3\n",
      "g2 = x*y - y**2\n",
      "g3 = y**3 - y\n",
      "\n",
      "Базис Грёбнера 1-ого исключающего идеала:\n",
      "g3 = y**3 - y\n"
     ]
    }
   ],
   "source": [
    "F = [x**2 + 2*y**2 - 3, x**2 + x*y + y**2 - 3]           # Идеал I\n",
    "G = groebner(F, x, y, order='lex')                       # Базис Грёбнера G\n",
    "\n",
    "print('\\nБазис Грёбнера относительно x > y:')\n",
    "print_groebner(G)\n",
    "\n",
    "poly_system = G.exprs\n",
    "G1, I0 = first_exclusion_step([y], poly_system, x)\n",
    "\n",
    "print('\\nБазис Грёбнера 1-ого исключающего идеала:')     \n",
    "print_groebner_of_ex(G1)\n"
   ]
  },
  {
   "cell_type": "markdown",
   "metadata": {},
   "source": [
    "Заметим, что многочлен $g_3$ зависит только от одной переменной $y$. Мы сделали **шаг исключения**, избавившись от переменной $x$. Решив это уравнение, получим возможные значения $y$ для решения всей системы - это будет **частичным решением**.\n",
    "\n",
    "По **теореме о продолжении** следующий шаг - шаг продолжения - может не выполниться (т.е. частичное решение не верно для всей системы), если коэффициенты при старших мономах одновременно равны нулю. Сделаем проверку на это для остальных полиномов, не содержащихся в $G_1$"
   ]
  },
  {
   "cell_type": "code",
   "execution_count": 63,
   "metadata": {},
   "outputs": [
    {
     "name": "stdout",
     "output_type": "stream",
     "text": [
      "корни Y: [(-1,), (0,), (1,)]\n",
      "корни Y после проверки: [(-1,), (0,), (1,)]\n"
     ]
    }
   ],
   "source": [
    "roots_y = []\n",
    "poly_system = []\n",
    "for pol in G1:\n",
    "    f_y = Poly(pol[0], y)\n",
    "    poly_system.append(f_y)\n",
    "roots_y = solve_poly_system(poly_system, y)               # Нашли частичные решения функцией solve_poly_system()\n",
    "print('корни Y:', roots_y)\n",
    "    \n",
    "for root_y in roots_y:\n",
    "    for pol in I0:\n",
    "        f_x = Poly(pol[0], x)\n",
    "        if root_y not in solve(LC(f_x), y):               # Проверка, обращает ли в ноль частичное решение старшие мономы\n",
    "            break                                         # полиномов из I0\n",
    "    else:\n",
    "        roots_y.remove(root_y)\n",
    "print('корни Y после проверки:', roots_y)\n"
   ]
  },
  {
   "cell_type": "markdown",
   "metadata": {},
   "source": [
    "Теперь сделаем **шаг продолжения**. Найдём все решения системы и сразу определим, какие из решений рациональны."
   ]
  },
  {
   "cell_type": "code",
   "execution_count": 64,
   "metadata": {},
   "outputs": [
    {
     "name": "stdout",
     "output_type": "stream",
     "text": [
      "Все решения системы: \n",
      "(-1, -1)\n",
      "(-sqrt(3), 0)\n",
      "(sqrt(3), 0)\n",
      "(1, 1)\n",
      "\n",
      "Рациональные решения системы:\n",
      "[(-1, -1), (1, 1)]\n",
      "Наименьшее поле k такое, что все решения принадлежат k^2, - это QQ(sqrt(3))\n"
     ]
    }
   ],
   "source": [
    "# Найдём значения X:\n",
    "roots_x = []\n",
    "for root_y in roots_y:\n",
    "    poly_system = []                                           # Для каждого частичного решения Y будут свои решения X\n",
    "    for pol in I0:\n",
    "        poly_system.append(pol[0].subs(y, root_y[0]))          # Подставим значения частичных решений методом .subs(y,root)\n",
    "    solution = solve_poly_system(poly_system, x)               # и решим систему уравнений от одной переменной X\n",
    "    roots_x.append(solution)\n",
    "\n",
    "# Теперь мы знаем все решения системы, \"закинем\" их красиво в список решений solutions:\n",
    "solutions = []\n",
    "for i in range(len(roots_y)):\n",
    "    for root_x in roots_x[i]:\n",
    "        solutions.append((root_x[0], roots_y[i][0]))\n",
    "print('Все решения системы: ')\n",
    "print(*solutions, sep='\\n')\n",
    "\n",
    "\n",
    "# Определим, какие решения рациональны\n",
    "def rationals(solutions):\n",
    "    rationals = []\n",
    "    for solution in solutions:\n",
    "        if all(sol.is_rational for sol in solution):\n",
    "            rationals.append(solution)\n",
    "    return rationals\n",
    "\n",
    "print('\\nРациональные решения системы:')\n",
    "print(rationals(solutions))\n",
    "\n",
    "# И найдём наименьшее поле k\n",
    "from sympy import QQ, RR\n",
    "\n",
    "def min_field(solutions):\n",
    "    extension = []\n",
    "    field = QQ\n",
    "    for solution in solutions:\n",
    "        if field == QQ:\n",
    "            if not all(sol.is_rational for sol in solution):\n",
    "                if not all(sol.is_real for sol in solution):\n",
    "                    field = RR\n",
    "                    extension = []\n",
    "                    for sol in solution:\n",
    "                        if not sol.is_real:\n",
    "                            extension.append((abs(sol).primitive())[1])\n",
    "                else:\n",
    "                    for sol in solution:\n",
    "                        if not sol.is_rational:\n",
    "                            extension.append((abs(sol).primitive())[1])\n",
    "        else:\n",
    "            if not all(sol.is_real for sol in solution):\n",
    "                for sol in solution:\n",
    "                    if not sol.is_real:\n",
    "                        extension.append((abs(sol).primitive())[1])\n",
    "    return ('{0}('.format(field) + str(set(extension)) + ')').replace('{', '').replace('}', '')\n",
    "\n",
    "print('Наименьшее поле k такое, что все решения принадлежат k^2, - это', min_field(solutions))\n"
   ]
  },
  {
   "cell_type": "markdown",
   "metadata": {},
   "source": [
    "### Упражнение 4 ###"
   ]
  },
  {
   "cell_type": "markdown",
   "metadata": {},
   "source": [
    "Рассмотрим теперь систему из трёх уравнений от трёх переменных: $x, y, z$.\n",
    "$$x^2 + y^2 + z^2 = 4$$\n",
    "$$x^2 + 2y^2 = 5$$\n",
    "$$xz = 1$$\n",
    "Нужно найти базисы исключающих идеалов $I_1, I_2$ идеала $I = (x^2 + y^2 + z^2 - 4, x^2 + 2y^2 - 5, xz - 1)$ и выяснить, сколько рациональных решений имеет эта система.\n",
    "\n",
    "**Решение**\n",
    "По теореме об исключении базис исключающего идеала $I_1$ равен $G_1 = G \\cap k[y, z]$, а базис исключающего идеала $I_2$ соответственно равен $G_2 = G \\cap k[z]$.\n",
    "Далее решение будет аналогичным (добавится лишь ещё один шаг исключения и ещё один шаг продолжения)."
   ]
  },
  {
   "cell_type": "code",
   "execution_count": 65,
   "metadata": {},
   "outputs": [
    {
     "name": "stdout",
     "output_type": "stream",
     "text": [
      "\n",
      "Базис Грёбнера относительно x > y > z:\n",
      "g1 = x + 2*z**3 - 3*z\n",
      "g2 = y**2 - z**2 - 1\n",
      "g3 = 2*z**4 - 3*z**2 + 1\n"
     ]
    }
   ],
   "source": [
    "from sympy.abc import z\n",
    "\n",
    "F = [x**2 + y**2 + z**2 - 4, x**2 + 2*y**2 - 5, x*z - 1]\n",
    "G = groebner(F, x, y, z, order='lex')\n",
    "\n",
    "print('\\nБазис Грёбнера относительно x > y > z:')\n",
    "print_groebner(G)\n"
   ]
  },
  {
   "cell_type": "markdown",
   "metadata": {},
   "source": [
    "Теперь найдём $G_1$:"
   ]
  },
  {
   "cell_type": "code",
   "execution_count": 66,
   "metadata": {},
   "outputs": [
    {
     "name": "stdout",
     "output_type": "stream",
     "text": [
      "\n",
      "Базис Грёбнера 2-ого исключающего идеала:\n",
      "g3 = 2*z**4 - 3*z**2 + 1\n"
     ]
    }
   ],
   "source": [
    "poly_system = G.exprs\n",
    "G2, I1 = first_exclusion_step([z], poly_system, x, y)\n",
    "\n",
    "print('\\nБазис Грёбнера 2-ого исключающего идеала:')\n",
    "print_groebner_of_ex(G2)\n"
   ]
  },
  {
   "cell_type": "markdown",
   "metadata": {},
   "source": [
    "Найдём частные решения $z$:"
   ]
  },
  {
   "cell_type": "code",
   "execution_count": 67,
   "metadata": {},
   "outputs": [
    {
     "name": "stdout",
     "output_type": "stream",
     "text": [
      "корни Z: [(-1,), (1,), (-sqrt(2)/2,), (sqrt(2)/2,)]\n",
      "корни Z после проверки: [(-1,), (1,), (-sqrt(2)/2,), (sqrt(2)/2,)]\n"
     ]
    }
   ],
   "source": [
    "roots_z = []\n",
    "poly_system = []\n",
    "for pol in G2:\n",
    "    f_z = Poly(pol[0], z)\n",
    "    poly_system.append(f_z)\n",
    "roots_z = solve_poly_system(poly_system, z)\n",
    "print('корни Z:', roots_z)\n",
    "\n",
    "for root_z in roots_z:\n",
    "    for pol in I1:\n",
    "        f_xy = Poly(pol[0], x, y)\n",
    "        if root_z not in solve(LC(f_xy), z):\n",
    "            break\n",
    "    else:\n",
    "        roots_z.remove(root_z)\n",
    "print('корни Z после проверки:', roots_z)\n"
   ]
  },
  {
   "cell_type": "markdown",
   "metadata": {},
   "source": [
    "Найдём $G_1$"
   ]
  },
  {
   "cell_type": "code",
   "execution_count": 68,
   "metadata": {},
   "outputs": [
    {
     "name": "stdout",
     "output_type": "stream",
     "text": [
      "\n",
      "Базис Грёбнера 1-ого исключающего идеала:\n",
      "g2 = y**2 - z**2 - 1\n"
     ]
    }
   ],
   "source": [
    "poly_system = []\n",
    "for pol in I1:\n",
    "    poly_system.append(pol[0].subs(z, roots_z[0][0]))\n",
    "\n",
    "def exclusion_step(var, poly_system, I_prev, *args):\n",
    "    G_ex = []\n",
    "    I_next = []\n",
    "    index = 1\n",
    "    for pol in poly_system:\n",
    "        f = Poly(pol, *var)\n",
    "        if f.free_symbols_in_domain.isdisjoint(set(args)):\n",
    "            G_ex.append((I_prev[index - 1][0].as_expr(), index))\n",
    "        else:\n",
    "            I_next.append((I_prev[index - 1][0], index))\n",
    "        index += 1\n",
    "    return G_ex, I_next\n",
    "\n",
    "G1, I0 = exclusion_step([y], poly_system, I1, x)\n",
    "\n",
    "print('\\nБазис Грёбнера 1-ого исключающего идеала:')\n",
    "print_groebner_of_ex(G1)\n"
   ]
  },
  {
   "cell_type": "markdown",
   "metadata": {},
   "source": [
    "Подставим известные частные решения $z$ и получим уравнение от одной переменной $y$:"
   ]
  },
  {
   "cell_type": "code",
   "execution_count": 69,
   "metadata": {},
   "outputs": [
    {
     "name": "stdout",
     "output_type": "stream",
     "text": [
      "корни Y: [[(-sqrt(2),), (sqrt(2),)], [(-sqrt(2),), (sqrt(2),)], [(-sqrt(6)/2,), (sqrt(6)/2,)], [(-sqrt(6)/2,), (sqrt(6)/2,)]]\n",
      "\n",
      "корни Y после проверки: [[(-sqrt(2),), (sqrt(2),)], [(-sqrt(2),), (sqrt(2),)], [(-sqrt(6)/2,), (sqrt(6)/2,)], [(-sqrt(6)/2,), (sqrt(6)/2,)]] \n",
      "\n"
     ]
    }
   ],
   "source": [
    "roots_y = []\n",
    "for root_z in roots_z:\n",
    "    poly_system = []\n",
    "    for pol in G1:\n",
    "        f_y = Poly(pol[0].as_expr().subs(z, root_z[0]), y)\n",
    "        poly_system.append(f_y)\n",
    "    solution = solve_poly_system(poly_system, y)\n",
    "    roots_y.append(solution)\n",
    "print('корни Y:', roots_y)\n",
    "\n",
    "for i in range(len(roots_z)):\n",
    "    for root_y in roots_y[i]:\n",
    "        for pol in I0:\n",
    "            f_x = Poly(pol[0].as_expr().subs({y:root_y, z:roots_z[i][0]}), x)\n",
    "            if ((root_y, roots_z[i][0])) not in solve(LC(f_x), y, z):\n",
    "                break\n",
    "        else:\n",
    "            roots_y.remove(root)\n",
    "print('\\nкорни Y после проверки:', roots_y, '\\n')\n"
   ]
  },
  {
   "cell_type": "markdown",
   "metadata": {},
   "source": [
    "У нас есть 4 частных решения $z$ и для каждого мы получили по два частных решения $y$.\n",
    "Теперь, зная $z$ и $y$, мы можем найти $x$, а значит, все решения системы."
   ]
  },
  {
   "cell_type": "code",
   "execution_count": 70,
   "metadata": {},
   "outputs": [
    {
     "name": "stdout",
     "output_type": "stream",
     "text": [
      "Все решения системы: \n",
      "(-1, -sqrt(2), -1)\n",
      "(-1, sqrt(2), -1)\n",
      "(1, -sqrt(2), 1)\n",
      "(1, sqrt(2), 1)\n",
      "(-sqrt(2), -sqrt(6)/2, -sqrt(2)/2)\n",
      "(-sqrt(2), sqrt(6)/2, -sqrt(2)/2)\n",
      "(sqrt(2), -sqrt(6)/2, sqrt(2)/2)\n",
      "(sqrt(2), sqrt(6)/2, sqrt(2)/2)\n",
      "\n",
      "Рациональные решения системы:\n",
      "[]\n",
      "Наименьшее поле k такое, что все решения принадлежат k^2, - это QQ(sqrt(6), sqrt(2))\n"
     ]
    }
   ],
   "source": [
    "# Найдём значения X:\n",
    "roots_x = []\n",
    "for i in range(len(roots_z)):\n",
    "    for root_y in roots_y[i]:\n",
    "        poly_system = []\n",
    "        for pol in I0:\n",
    "            poly_system.append(Poly(pol[0].as_expr().subs({y:root_y, z:roots_z[i][0]}), x))\n",
    "        solution = solve_poly_system(poly_system, x)\n",
    "        roots_x.append(solution)\n",
    "\n",
    "# Теперь мы знаем все решения системы, \"закинем\" их красиво в список решений solutions:\n",
    "solutions = []\n",
    "index = 0\n",
    "for i in range(len(roots_z)):\n",
    "    for j in range(len(roots_y[i])):\n",
    "        solutions.append((roots_x[index][0][0], roots_y[i][j][0], roots_z[i][0]))\n",
    "        index += 1\n",
    "print('Все решения системы: ')\n",
    "print(*solutions, sep='\\n')\n",
    "\n",
    "# Определим, какие решения рациональны\n",
    "\n",
    "print('\\nРациональные решения системы:')\n",
    "print(rationals(solutions))\n",
    "\n",
    "print('Наименьшее поле k такое, что все решения принадлежат k^2, - это', min_field(solutions))\n"
   ]
  },
  {
   "cell_type": "markdown",
   "metadata": {},
   "source": [
    "Таким образом, ни одно из решений системы не является рациональным."
   ]
  },
  {
   "cell_type": "markdown",
   "metadata": {},
   "source": [
    "### Упражнение 7 ###"
   ]
  },
  {
   "cell_type": "markdown",
   "metadata": {},
   "source": [
    "Рассмотрим систему\n",
    "$$t^2 + x^2 + y^2 + z^2 = 0$$\n",
    "$$t^2 + 2x^2 - xy - z^2 = 0$$\n",
    "$$t + y^3 - z^3 = 0$$\n",
    "Мы хотим исключить $t$.\n",
    "\n",
    "$I = (t^2 + x^2 + y^2 + z^2, t^2 + 2x^2 - xy - z^2, t + y^3 - z^3)$ - соответствующий идеал.\n",
    "\n",
    "(a) Используя lex-упорядочение с $t > x > y > z$, найти базис Грёбнера $G$ для $I$, а затем базис $G_1$ для $I \\cap k[x, y, z]$.\n",
    "\n",
    "(b) Используя grevlex-упорядочение, найти базис Грёбнера идеала $I \\cap k[x, y, z]$.\n",
    "\n",
    "(c) Объединить полученный в п.(b) базис с полиномом $t + y^3 - z^3$ и доказать, что это объединение является базисом Грёбнера для идеала $I$ по отношению к упорядочению $>_l$.\n",
    "\n",
    "**Решение**\n",
    "\n",
    "Найдём базис Грёбнера $G$ и $G_3$ относительно $lex-$упорядочения с $t > x > y > z$:\n"
   ]
  },
  {
   "cell_type": "code",
   "execution_count": 71,
   "metadata": {},
   "outputs": [
    {
     "name": "stdout",
     "output_type": "stream",
     "text": [
      "\n",
      "Базис Грёбнера относительно lex-упорядочения с t > x > y > z:\n",
      "g1 = t + y**3 - z**3\n",
      "g2 = x**2 + y**6 - 2*y**3*z**3 + y**2 + z**6 + z**2\n",
      "g3 = x*y + y**6 - 2*y**3*z**3 + 2*y**2 + z**6 + 3*z**2\n",
      "g4 = x*z**6 + 3*x*z**2 - y**11 + 4*y**8*z**3 - 5*y**7 - 5*y**5*z**6 - 3*y**5*z**2 + 10*y**4*z**3 - 5*y**3 + 2*y**2*z**9 + 6*y**2*z**5 - 3*y*z**6 - 7*y*z**2\n",
      "g5 = y**12 - 4*y**9*z**3 + 5*y**8 + 6*y**6*z**6 + 6*y**6*z**2 - 10*y**5*z**3 + 5*y**4 - 4*y**3*z**9 - 12*y**3*z**5 + 5*y**2*z**6 + 13*y**2*z**2 + z**12 + 6*z**8 + 9*z**4\n",
      "\n",
      "Базис Грёбнера 1-ого исключающего идеала:\n",
      "g2 = x**2 + y**6 - 2*y**3*z**3 + y**2 + z**6 + z**2\n",
      "g3 = x*y + y**6 - 2*y**3*z**3 + 2*y**2 + z**6 + 3*z**2\n",
      "g4 = x*z**6 + 3*x*z**2 - y**11 + 4*y**8*z**3 - 5*y**7 - 5*y**5*z**6 - 3*y**5*z**2 + 10*y**4*z**3 - 5*y**3 + 2*y**2*z**9 + 6*y**2*z**5 - 3*y*z**6 - 7*y*z**2\n",
      "g5 = y**12 - 4*y**9*z**3 + 5*y**8 + 6*y**6*z**6 + 6*y**6*z**2 - 10*y**5*z**3 + 5*y**4 - 4*y**3*z**9 - 12*y**3*z**5 + 5*y**2*z**6 + 13*y**2*z**2 + z**12 + 6*z**8 + 9*z**4\n",
      "\n",
      "\n"
     ]
    }
   ],
   "source": [
    "from sympy.abc import t\n",
    "\n",
    "F_lex = [t**2 + x**2 + y**2 + z**2, t**2 + 2*x**2 - x*y - z**2, t + y**3 - z**3]\n",
    "G_lex = groebner(F_lex, t, x, y, z, order='lex')\n",
    "\n",
    "print('\\nБазис Грёбнера относительно lex-упорядочения с t > x > y > z:')\n",
    "print_groebner(G_lex)\n",
    "\n",
    "\n",
    "poly_system = G_lex.exprs\n",
    "G1_lex, I0_lex = first_exclusion_step([x, y, z], poly_system, t)\n",
    "    \n",
    "print('\\nБазис Грёбнера 1-ого исключающего идеала:')\n",
    "print_groebner_of_ex(G1_lex)\n",
    "print('\\n')\n"
   ]
  },
  {
   "cell_type": "markdown",
   "metadata": {},
   "source": [
    "Мы получили четыре полинома, один из которых имеет степень 12.\n",
    "\n",
    "Теперь найдём эти же базисы, используя $grevlex-$упорядочение:\n"
   ]
  },
  {
   "cell_type": "code",
   "execution_count": 82,
   "metadata": {},
   "outputs": [
    {
     "name": "stdout",
     "output_type": "stream",
     "text": [
      "\n",
      "Базис Грёбнера относительно grevlex-упорядочения:\n",
      "g1 = x + 2*z**3 - 3*z\n",
      "g2 = x**2 + 2*z**2 - 3\n",
      "g3 = y**2 - z**2 - 1\n",
      "g4 = x*z - 1\n",
      "\n",
      "Базис Грёбнера 1-ого исключащего идеала:\n",
      "g1 = x + 2*z**3 - 3*z\n",
      "g2 = x**2 + 2*z**2 - 3\n",
      "g3 = y**2 - z**2 - 1\n",
      "g4 = x*z - 1\n"
     ]
    }
   ],
   "source": [
    "F_grevlex = [t**2 + x**2 + y**2 + z**2, t**2 + 2*x**2 - x*y - z**2, t + y**3 - z**3]\n",
    "G_grevlex = groebner(F, t, x, y, z, order='grevlex')\n",
    "\n",
    "print('\\nБазис Грёбнера относительно grevlex-упорядочения:')\n",
    "print_groebner(G_grevlex)\n",
    "\n",
    "\n",
    "poly_system = G_grevlex.exprs\n",
    "G1_grevlex, I0_grevlex = first_exclusion_step([x, y, z], poly_system, t)\n",
    "\n",
    "print('\\nБазис Грёбнера 1-ого исключащего идеала:')\n",
    "print_groebner_of_ex(G1_grevlex)\n"
   ]
  },
  {
   "cell_type": "markdown",
   "metadata": {},
   "source": [
    "**Должно было получиться два полинома =(**"
   ]
  },
  {
   "cell_type": "code",
   "execution_count": null,
   "metadata": {},
   "outputs": [],
   "source": []
  },
  {
   "cell_type": "markdown",
   "metadata": {},
   "source": []
  }
 ],
 "metadata": {
  "kernelspec": {
   "display_name": "Python 3",
   "language": "python",
   "name": "python3"
  },
  "language_info": {
   "codemirror_mode": {
    "name": "ipython",
    "version": 3
   },
   "file_extension": ".py",
   "mimetype": "text/x-python",
   "name": "python",
   "nbconvert_exporter": "python",
   "pygments_lexer": "ipython3",
   "version": "3.7.3"
  }
 },
 "nbformat": 4,
 "nbformat_minor": 2
}
