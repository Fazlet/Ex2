{
 "cells": [
  {
   "cell_type": "markdown",
   "metadata": {},
   "source": [
    "# Теоремы об исключении и продолжении"
   ]
  },
  {
   "cell_type": "markdown",
   "metadata": {},
   "source": [
    "## Упражнения к параграфу 1"
   ]
  },
  {
   "cell_type": "markdown",
   "metadata": {},
   "source": [
    "### Упражнение 2"
   ]
  },
  {
   "cell_type": "markdown",
   "metadata": {},
   "source": [
    "Рассмотрим систему уравнений $$x^2 + 2y^2 = 3$$\n",
    "                         $$x^2 + xy + y^2 = 3$$\n",
    "(a) Пусть $I = (x^2 + 2y^2 - 3, x^2 + xy + y^2 - 3)$ - соответствующий идеал.\n",
    "Найти базисы идеалов $I\\cap k[x]$ и $I\\cap k[y]$.\n",
    "\n",
    "(b) Найти все решения системы.\n",
    "\n",
    "(c) Определить, какие из этих решений рациональны.\n",
    "\n",
    "(d) Найти наименьшее поле $k$ такое, что все решения принадлежат $k^2$.\n",
    "\n",
    "**Решение.**\n",
    "\n",
    "По **теореме об исключении** базис $G_1$ идеала $I_1 = I\\cap k[x]$ равен $G \\cap k[x]$, где $G$ - базис Грёбнера идеала $I$.\n",
    "\n",
    "Тогда для начала найдём базис Грёбнера $G$ относительно лексикографического порядка $y > x$. Для этого нам понадобится функция $groebner$ из библиотеки $SymPy$."
   ]
  },
  {
   "cell_type": "code",
   "execution_count": 40,
   "metadata": {},
   "outputs": [
    {
     "name": "stdout",
     "output_type": "stream",
     "text": [
      "\n",
      "Базис Грёбнера относительно y > x:\n",
      " g1 = x**3 - 3*x + 2*y\n",
      " g2 = x**4 - 4*x**2 + 3\n"
     ]
    }
   ],
   "source": [
    "from sympy.polys.polytools import groebner\n",
    "from sympy.abc import x, y\n",
    "\n",
    "F = [y**2 + x*y + x**2 - 3, 2*y**2 + x**2 - 3]           # Идеал I\n",
    "G = groebner(F, y, x, order='lex')                       # Базис Грёбнера g\n",
    "\n",
    "print('\\nБазис Грёбнера относительно y > x:')\n",
    "\n",
    "def print_groebner(G):\n",
    "    if (len(G) > 0):\n",
    "        for i in range(len(G.exprs)):\n",
    "            print(' g', i+1, ' = ', G.exprs[i], sep='')   # метод .exprs позволяет записать полином в виде красивого выражения\n",
    "    else:\n",
    "        print('is empty!')\n",
    "\n",
    "print_groebner(G)\n"
   ]
  },
  {
   "cell_type": "markdown",
   "metadata": {},
   "source": [
    "Теперь несложно найти $G_1 = G \\cap k[x]$:"
   ]
  },
  {
   "cell_type": "code",
   "execution_count": 41,
   "metadata": {},
   "outputs": [
    {
     "name": "stdout",
     "output_type": "stream",
     "text": [
      "\n",
      "Базис Грёбнера 1-ого исключающего идеала:\n",
      " g2 = x**4 - 4*x**2 + 3\n"
     ]
    }
   ],
   "source": [
    "from sympy import Poly, LC\n",
    "from sympy import solve, solve_poly_system\n",
    "\n",
    "poly_system = G.exprs\n",
    "\n",
    "def first_exclusion_step(var, poly_system, *args):\n",
    "    G_ex = []\n",
    "    I_next = []\n",
    "    index = 1\n",
    "    for pol in poly_system:\n",
    "        f = Poly(pol, *var)                                  # Представим каждое выражение как полином от переменной X\n",
    "        if f.free_symbols_in_domain.isdisjoint(set(args)):   # Если помимо переменной X в полиноме НЕТ свободной переменной Y,\n",
    "            G_ex.append((f.as_expr(), index))                # то этот полином содержится в G1\n",
    "        else:\n",
    "            I_next.append((Poly(f, args), index))            # Запомним отдельно полиномы, которые не содержатся в G1.\n",
    "        index += 1\n",
    "    return G_ex, I_next\n",
    "\n",
    "G1, I0 = first_exclusion_step([x], poly_system, y)\n",
    "\n",
    "print('\\nБазис Грёбнера 1-ого исключающего идеала:')\n",
    "\n",
    "def print_groebner_of_ex(G):\n",
    "    if (len(G) > 0):\n",
    "        for pol in G:\n",
    "            print(' g', pol[1], ' = ', pol[0], sep='')\n",
    "    else:\n",
    "        print('is empty!')\n",
    "\n",
    "print_groebner_of_ex(G1)\n"
   ]
  },
  {
   "cell_type": "markdown",
   "metadata": {},
   "source": [
    "Аналогично найдём $G1 = G \\cap k[y]$. Для этого нам нужен лексикографический порядок $x > y$."
   ]
  },
  {
   "cell_type": "code",
   "execution_count": 42,
   "metadata": {},
   "outputs": [
    {
     "name": "stdout",
     "output_type": "stream",
     "text": [
      "\n",
      "Базис Грёбнера относительно x > y:\n",
      " g1 = x**2 + 2*y**2 - 3\n",
      " g2 = x*y - y**2\n",
      " g3 = y**3 - y\n",
      "\n",
      "Базис Грёбнера 1-ого исключающего идеала:\n",
      " g3 = y**3 - y\n"
     ]
    }
   ],
   "source": [
    "F = [x**2 + 2*y**2 - 3, x**2 + x*y + y**2 - 3]           # Идеал I\n",
    "G = groebner(F, x, y, order='lex')                       # Базис Грёбнера G\n",
    "\n",
    "print('\\nБазис Грёбнера относительно x > y:')\n",
    "print_groebner(G)\n",
    "\n",
    "poly_system = G.exprs\n",
    "G1, I0 = first_exclusion_step([y], poly_system, x)\n",
    "\n",
    "print('\\nБазис Грёбнера 1-ого исключающего идеала:')     \n",
    "print_groebner_of_ex(G1)\n"
   ]
  },
  {
   "cell_type": "markdown",
   "metadata": {},
   "source": [
    "Заметим, что многочлен $g_3$ зависит только от одной переменной $y$. Мы сделали **шаг исключения**, избавившись от переменной $x$. Решив это уравнение, получим возможные значения $y$ для решения всей системы - это будет **частичным решением**.\n",
    "\n",
    "По **теореме о продолжении** следующий шаг - шаг продолжения - может не выполниться (т.е. частичное решение не верно для всей системы), если коэффициенты при старших мономах одновременно равны нулю. Сделаем проверку на это для остальных полиномов, не содержащихся в $G_1$"
   ]
  },
  {
   "cell_type": "code",
   "execution_count": 43,
   "metadata": {},
   "outputs": [
    {
     "name": "stdout",
     "output_type": "stream",
     "text": [
      "корни Y: [(-1,), (0,), (1,)]\n",
      "корни Y после проверки: [(-1,), (0,), (1,)]\n"
     ]
    }
   ],
   "source": [
    "roots_y = []\n",
    "poly_system = []\n",
    "for pol in G1:\n",
    "    f_y = Poly(pol[0], y)\n",
    "    poly_system.append(f_y)\n",
    "roots_y = solve_poly_system(poly_system, y)               # Нашли частичные решения функцией solve_poly_system()\n",
    "print('корни Y:', roots_y)\n",
    "    \n",
    "for root_y in roots_y:\n",
    "    for pol in I0:\n",
    "        f_x = Poly(pol[0], x)\n",
    "        if root_y not in solve(LC(f_x), y):               # Проверка, обращает ли в ноль частичное решение старшие мономы\n",
    "            break                                         # полиномов из I0\n",
    "    else:\n",
    "        roots_y.remove(root_y)\n",
    "print('корни Y после проверки:', roots_y)\n"
   ]
  },
  {
   "cell_type": "markdown",
   "metadata": {},
   "source": [
    "Теперь сделаем **шаг продолжения**. Найдём все решения системы и сразу определим, какие из решений рациональны."
   ]
  },
  {
   "cell_type": "code",
   "execution_count": 44,
   "metadata": {},
   "outputs": [
    {
     "name": "stdout",
     "output_type": "stream",
     "text": [
      "Все решения системы: \n",
      "(-1, -1)\n",
      "(-sqrt(3), 0)\n",
      "(sqrt(3), 0)\n",
      "(1, 1)\n",
      "\n",
      "Рациональные решения системы:\n",
      "[(-1, -1), (1, 1)]\n",
      "Наименьшее поле k такое, что все решения принадлежат k^2, - это QQ(sqrt(3))\n"
     ]
    }
   ],
   "source": [
    "# Найдём значения X:\n",
    "roots_x = []\n",
    "for root_y in roots_y:\n",
    "    poly_system = []                                           # Для каждого частичного решения Y будут свои решения X\n",
    "    for pol in I0:\n",
    "        poly_system.append(pol[0].subs(y, root_y[0]))          # Подставим значения частичных решений методом .subs(y,root)\n",
    "    solution = solve_poly_system(poly_system, x)               # и решим систему уравнений от одной переменной X\n",
    "    roots_x.append(solution)\n",
    "\n",
    "# Теперь мы знаем все решения системы, \"закинем\" их красиво в список решений solutions:\n",
    "solutions = []\n",
    "for i in range(len(roots_y)):\n",
    "    for root_x in roots_x[i]:\n",
    "        solutions.append((root_x[0], roots_y[i][0]))\n",
    "print('Все решения системы: ')\n",
    "print(*solutions, sep='\\n')\n",
    "\n",
    "\n",
    "# Определим, какие решения рациональны\n",
    "def rationals(solutions):\n",
    "    rationals = []\n",
    "    for solution in solutions:\n",
    "        if all(sol.is_rational for sol in solution):\n",
    "            rationals.append(solution)\n",
    "    return rationals\n",
    "\n",
    "print('\\nРациональные решения системы:')\n",
    "print(rationals(solutions))\n",
    "\n",
    "# И найдём наименьшее поле k\n",
    "from sympy import QQ, RR\n",
    "\n",
    "def min_field(solutions):\n",
    "    extension = []\n",
    "    field = QQ\n",
    "    for solution in solutions:\n",
    "        if field == QQ:\n",
    "            if not all(sol.is_rational for sol in solution):\n",
    "                if not all(sol.is_real for sol in solution):\n",
    "                    field = RR\n",
    "                    extension = []\n",
    "                    for sol in solution:\n",
    "                        if not sol.is_real:\n",
    "                            extension.append((abs(sol).primitive())[1])\n",
    "                else:\n",
    "                    for sol in solution:\n",
    "                        if not sol.is_rational:\n",
    "                            extension.append((abs(sol).primitive())[1])\n",
    "        else:\n",
    "            if not all(sol.is_real for sol in solution):\n",
    "                for sol in solution:\n",
    "                    if not sol.is_real:\n",
    "                        extension.append((abs(sol).primitive())[1])\n",
    "    return ('{0}('.format(field) + str(set(extension)) + ')').replace('{', '').replace('}', '')\n",
    "\n",
    "print('Наименьшее поле k такое, что все решения принадлежат k^2, - это', min_field(solutions))\n"
   ]
  },
  {
   "cell_type": "markdown",
   "metadata": {},
   "source": [
    "### Упражнение 4 ###"
   ]
  },
  {
   "cell_type": "markdown",
   "metadata": {},
   "source": [
    "Рассмотрим теперь систему из трёх уравнений от трёх переменных: $x, y, z$.\n",
    "$$x^2 + y^2 + z^2 = 4$$\n",
    "$$x^2 + 2y^2 = 5$$\n",
    "$$xz = 1$$\n",
    "Нужно найти базисы исключающих идеалов $I_1, I_2$ идеала $I = (x^2 + y^2 + z^2 - 4, x^2 + 2y^2 - 5, xz - 1)$ и выяснить, сколько рациональных решений имеет эта система.\n",
    "\n",
    "**Решение**\n",
    "По теореме об исключении базис исключающего идеала $I_1$ равен $G_1 = G \\cap k[y, z]$, а базис исключающего идеала $I_2$ соответственно равен $G_2 = G \\cap k[z]$.\n",
    "Далее решение будет аналогичным (добавится лишь ещё один шаг исключения и ещё один шаг продолжения)."
   ]
  },
  {
   "cell_type": "code",
   "execution_count": 45,
   "metadata": {},
   "outputs": [
    {
     "name": "stdout",
     "output_type": "stream",
     "text": [
      "\n",
      "Базис Грёбнера относительно x > y > z:\n",
      " g1 = x + 2*z**3 - 3*z\n",
      " g2 = y**2 - z**2 - 1\n",
      " g3 = 2*z**4 - 3*z**2 + 1\n"
     ]
    }
   ],
   "source": [
    "from sympy.abc import z\n",
    "\n",
    "F = [x**2 + y**2 + z**2 - 4, x**2 + 2*y**2 - 5, x*z - 1]\n",
    "G = groebner(F, x, y, z, order='lex')\n",
    "\n",
    "print('\\nБазис Грёбнера относительно x > y > z:')\n",
    "print_groebner(G)\n"
   ]
  },
  {
   "cell_type": "markdown",
   "metadata": {},
   "source": [
    "Теперь найдём $G_1$:"
   ]
  },
  {
   "cell_type": "code",
   "execution_count": 46,
   "metadata": {},
   "outputs": [
    {
     "name": "stdout",
     "output_type": "stream",
     "text": [
      "\n",
      "Базис Грёбнера 2-ого исключающего идеала:\n",
      " g3 = 2*z**4 - 3*z**2 + 1\n"
     ]
    }
   ],
   "source": [
    "poly_system = G.exprs\n",
    "G2, I1 = first_exclusion_step([z], poly_system, x, y)\n",
    "\n",
    "print('\\nБазис Грёбнера 2-ого исключающего идеала:')\n",
    "print_groebner_of_ex(G2)\n"
   ]
  },
  {
   "cell_type": "markdown",
   "metadata": {},
   "source": [
    "Найдём частные решения $z$:"
   ]
  },
  {
   "cell_type": "code",
   "execution_count": 47,
   "metadata": {},
   "outputs": [
    {
     "name": "stdout",
     "output_type": "stream",
     "text": [
      "корни Z: [(-1,), (1,), (-sqrt(2)/2,), (sqrt(2)/2,)]\n",
      "корни Z после проверки: [(-1,), (1,), (-sqrt(2)/2,), (sqrt(2)/2,)]\n"
     ]
    }
   ],
   "source": [
    "roots_z = []\n",
    "poly_system = []\n",
    "for pol in G2:\n",
    "    f_z = Poly(pol[0], z)\n",
    "    poly_system.append(f_z)\n",
    "roots_z = solve_poly_system(poly_system, z)\n",
    "print('корни Z:', roots_z)\n",
    "\n",
    "for root_z in roots_z:\n",
    "    for pol in I1:\n",
    "        f_xy = Poly(pol[0], x, y)\n",
    "        if root_z not in solve(LC(f_xy), z):\n",
    "            break\n",
    "    else:\n",
    "        roots_z.remove(root_z)\n",
    "print('корни Z после проверки:', roots_z)\n"
   ]
  },
  {
   "cell_type": "markdown",
   "metadata": {},
   "source": [
    "Найдём $G_1$"
   ]
  },
  {
   "cell_type": "code",
   "execution_count": 48,
   "metadata": {},
   "outputs": [
    {
     "name": "stdout",
     "output_type": "stream",
     "text": [
      "\n",
      "Базис Грёбнера 1-ого исключающего идеала:\n",
      " g2 = y**2 - z**2 - 1\n"
     ]
    }
   ],
   "source": [
    "poly_system = []\n",
    "for pol in I1:\n",
    "    poly_system.append(pol[0].subs(z, roots_z[0][0]))\n",
    "\n",
    "def exclusion_step(var, poly_system, I_prev, *args):\n",
    "    G_ex = []\n",
    "    I_next = []\n",
    "    index = 1\n",
    "    for pol in poly_system:\n",
    "        f = Poly(pol, *var)\n",
    "        if (f != 0):\n",
    "            if f.free_symbols_in_domain.isdisjoint(set(args)):\n",
    "                G_ex.append((I_prev[index - 1][0].as_expr(), index))\n",
    "            else:\n",
    "                I_next.append((I_prev[index - 1][0], index))\n",
    "        index += 1\n",
    "    return G_ex, I_next\n",
    "\n",
    "G1, I0 = exclusion_step([y], poly_system, I1, x)\n",
    "\n",
    "print('\\nБазис Грёбнера 1-ого исключающего идеала:')\n",
    "print_groebner_of_ex(G1)\n"
   ]
  },
  {
   "cell_type": "markdown",
   "metadata": {},
   "source": [
    "Подставим известные частные решения $z$ и получим уравнение от одной переменной $y$:"
   ]
  },
  {
   "cell_type": "code",
   "execution_count": 49,
   "metadata": {},
   "outputs": [
    {
     "name": "stdout",
     "output_type": "stream",
     "text": [
      "корни Y: [[(-sqrt(2),), (sqrt(2),)], [(-sqrt(2),), (sqrt(2),)], [(-sqrt(6)/2,), (sqrt(6)/2,)], [(-sqrt(6)/2,), (sqrt(6)/2,)]]\n",
      "\n",
      "корни Y после проверки: [[(-sqrt(2),), (sqrt(2),)], [(-sqrt(2),), (sqrt(2),)], [(-sqrt(6)/2,), (sqrt(6)/2,)], [(-sqrt(6)/2,), (sqrt(6)/2,)]] \n",
      "\n"
     ]
    }
   ],
   "source": [
    "roots_y = []\n",
    "for root_z in roots_z:\n",
    "    poly_system = []\n",
    "    for pol in G1:\n",
    "        f_y = Poly(pol[0].as_expr().subs(z, root_z[0]), y)\n",
    "        poly_system.append(f_y)\n",
    "    solution = solve_poly_system(poly_system, y)\n",
    "    roots_y.append(solution)\n",
    "print('корни Y:', roots_y)\n",
    "\n",
    "for i in range(len(roots_z)):\n",
    "    for root_y in roots_y[i]:\n",
    "        for pol in I0:\n",
    "            f_x = Poly(pol[0].as_expr().subs({y:root_y, z:roots_z[i][0]}), x)\n",
    "            if ((root_y, roots_z[i][0])) not in solve(LC(f_x), y, z):\n",
    "                break\n",
    "        else:\n",
    "            roots_y.remove(root)\n",
    "print('\\nкорни Y после проверки:', roots_y, '\\n')\n"
   ]
  },
  {
   "cell_type": "markdown",
   "metadata": {},
   "source": [
    "У нас есть 4 частных решения $z$ и для каждого мы получили по два частных решения $y$.\n",
    "Теперь, зная $z$ и $y$, мы можем найти $x$, а значит, все решения системы."
   ]
  },
  {
   "cell_type": "code",
   "execution_count": 50,
   "metadata": {},
   "outputs": [
    {
     "name": "stdout",
     "output_type": "stream",
     "text": [
      "Все решения системы: \n",
      "(-1, -sqrt(2), -1)\n",
      "(-1, sqrt(2), -1)\n",
      "(1, -sqrt(2), 1)\n",
      "(1, sqrt(2), 1)\n",
      "(-sqrt(2), -sqrt(6)/2, -sqrt(2)/2)\n",
      "(-sqrt(2), sqrt(6)/2, -sqrt(2)/2)\n",
      "(sqrt(2), -sqrt(6)/2, sqrt(2)/2)\n",
      "(sqrt(2), sqrt(6)/2, sqrt(2)/2)\n",
      "\n",
      "Рациональные решения системы:\n",
      "[]\n",
      "Наименьшее поле k такое, что все решения принадлежат k^2, - это QQ(sqrt(2), sqrt(6))\n"
     ]
    }
   ],
   "source": [
    "# Найдём значения X:\n",
    "roots_x = []\n",
    "for i in range(len(roots_z)):\n",
    "    for root_y in roots_y[i]:\n",
    "        poly_system = []\n",
    "        for pol in I0:\n",
    "            poly_system.append(Poly(pol[0].as_expr().subs({y:root_y, z:roots_z[i][0]}), x))\n",
    "        solution = solve_poly_system(poly_system, x)\n",
    "        roots_x.append(solution)\n",
    "\n",
    "# Теперь мы знаем все решения системы, \"закинем\" их красиво в список решений solutions:\n",
    "solutions = []\n",
    "index = 0\n",
    "for i in range(len(roots_z)):\n",
    "    for j in range(len(roots_y[i])):\n",
    "        solutions.append((roots_x[index][0][0], roots_y[i][j][0], roots_z[i][0]))\n",
    "        index += 1\n",
    "print('Все решения системы: ')\n",
    "print(*solutions, sep='\\n')\n",
    "\n",
    "# Определим, какие решения рациональны\n",
    "\n",
    "print('\\nРациональные решения системы:')\n",
    "print(rationals(solutions))\n",
    "\n",
    "print('Наименьшее поле k такое, что все решения принадлежат k^2, - это', min_field(solutions))\n"
   ]
  },
  {
   "cell_type": "markdown",
   "metadata": {},
   "source": [
    "Таким образом, ни одно из решений системы не является рациональным."
   ]
  },
  {
   "cell_type": "markdown",
   "metadata": {},
   "source": [
    "### Упражнение 7 ###"
   ]
  },
  {
   "cell_type": "markdown",
   "metadata": {},
   "source": [
    "Рассмотрим систему\n",
    "$$t^2 + x^2 + y^2 + z^2 = 0$$\n",
    "$$t^2 + 2x^2 - xy - z^2 = 0$$\n",
    "$$t + y^3 - z^3 = 0$$\n",
    "Мы хотим исключить $t$.\n",
    "\n",
    "$I = (t^2 + x^2 + y^2 + z^2, t^2 + 2x^2 - xy - z^2, t + y^3 - z^3)$ - соответствующий идеал.\n",
    "\n",
    "(a) Используя lex-упорядочение с $t > x > y > z$, найти базис Грёбнера $G$ для $I$, а затем базис $G_1$ для $I \\cap k[x, y, z]$.\n",
    "\n",
    "(b) Используя grevlex-упорядочение, найти базис Грёбнера идеала $I \\cap k[x, y, z]$.\n",
    "\n",
    "(c) Объединить полученный в п.(b) базис с полиномом $t + y^3 - z^3$ и доказать, что это объединение является базисом Грёбнера для идеала $I$ по отношению к упорядочению $>_l$.\n",
    "\n",
    "**Решение**\n",
    "\n",
    "Найдём базис Грёбнера $G$ и $G_3$ относительно $lex-$упорядочения с $t > x > y > z$:\n"
   ]
  },
  {
   "cell_type": "code",
   "execution_count": 51,
   "metadata": {},
   "outputs": [
    {
     "name": "stdout",
     "output_type": "stream",
     "text": [
      "\n",
      "Базис Грёбнера относительно lex-упорядочения с t > x > y > z:\n",
      " g1 = t + y**3 - z**3\n",
      " g2 = x**2 + y**6 - 2*y**3*z**3 + y**2 + z**6 + z**2\n",
      " g3 = x*y + y**6 - 2*y**3*z**3 + 2*y**2 + z**6 + 3*z**2\n",
      " g4 = x*z**6 + 3*x*z**2 - y**11 + 4*y**8*z**3 - 5*y**7 - 5*y**5*z**6 - 3*y**5*z**2 + 10*y**4*z**3 - 5*y**3 + 2*y**2*z**9 + 6*y**2*z**5 - 3*y*z**6 - 7*y*z**2\n",
      " g5 = y**12 - 4*y**9*z**3 + 5*y**8 + 6*y**6*z**6 + 6*y**6*z**2 - 10*y**5*z**3 + 5*y**4 - 4*y**3*z**9 - 12*y**3*z**5 + 5*y**2*z**6 + 13*y**2*z**2 + z**12 + 6*z**8 + 9*z**4\n",
      "\n",
      "Базис Грёбнера 1-ого исключающего идеала:\n",
      " g2 = x**2 + y**6 - 2*y**3*z**3 + y**2 + z**6 + z**2\n",
      " g3 = x*y + y**6 - 2*y**3*z**3 + 2*y**2 + z**6 + 3*z**2\n",
      " g4 = x*z**6 + 3*x*z**2 - y**11 + 4*y**8*z**3 - 5*y**7 - 5*y**5*z**6 - 3*y**5*z**2 + 10*y**4*z**3 - 5*y**3 + 2*y**2*z**9 + 6*y**2*z**5 - 3*y*z**6 - 7*y*z**2\n",
      " g5 = y**12 - 4*y**9*z**3 + 5*y**8 + 6*y**6*z**6 + 6*y**6*z**2 - 10*y**5*z**3 + 5*y**4 - 4*y**3*z**9 - 12*y**3*z**5 + 5*y**2*z**6 + 13*y**2*z**2 + z**12 + 6*z**8 + 9*z**4\n",
      "\n",
      "\n"
     ]
    }
   ],
   "source": [
    "from sympy.abc import t\n",
    "\n",
    "F_lex = [t**2 + x**2 + y**2 + z**2, t**2 + 2*x**2 - x*y - z**2, t + y**3 - z**3]\n",
    "G_lex = groebner(F_lex, t, x, y, z, order='lex')\n",
    "\n",
    "print('\\nБазис Грёбнера относительно lex-упорядочения с t > x > y > z:')\n",
    "print_groebner(G_lex)\n",
    "\n",
    "\n",
    "poly_system = G_lex.exprs\n",
    "G1_lex, I0_lex = first_exclusion_step([x, y, z], poly_system, t)\n",
    "    \n",
    "print('\\nБазис Грёбнера 1-ого исключающего идеала:')\n",
    "print_groebner_of_ex(G1_lex)\n",
    "print('\\n')\n"
   ]
  },
  {
   "cell_type": "markdown",
   "metadata": {},
   "source": [
    "Мы получили четыре полинома, один из которых имеет степень 12.\n",
    "\n",
    "Теперь найдём базис Грёбнера, используя $grevlex-$упорядочение:\n"
   ]
  },
  {
   "cell_type": "code",
   "execution_count": 52,
   "metadata": {},
   "outputs": [
    {
     "name": "stdout",
     "output_type": "stream",
     "text": [
      "\n",
      "Базис Грёбнера 1-ого исключающего идеала относительно grevlex-упорядочения:\n",
      " g1 = x*y + y**6 - 2*y**3*z**3 + 2*y**2 + z**6 + 3*z**2\n",
      " g2 = x**2 - x*y - y**2 - 2*z**2\n"
     ]
    }
   ],
   "source": [
    "def polys_to_list(G):\n",
    "    G_new = []\n",
    "    for pol in G:\n",
    "        G_new.append(pol[0])\n",
    "    return G_new\n",
    "G1 = polys_to_list(G1_lex)\n",
    "\n",
    "G1_grevlex = groebner(G1, t, x, y, z, order='grevlex')\n",
    "\n",
    "print('\\nБазис Грёбнера 1-ого исключающего идеала относительно grevlex-упорядочения:')\n",
    "print_groebner(G1_grevlex)\n"
   ]
  },
  {
   "cell_type": "markdown",
   "metadata": {},
   "source": [
    "Добавим полином $t + y^3 - z^3$:"
   ]
  },
  {
   "cell_type": "code",
   "execution_count": 53,
   "metadata": {},
   "outputs": [
    {
     "name": "stdout",
     "output_type": "stream",
     "text": [
      "Базис Грёбнера:\n",
      " g1 = x*y + y**6 - 2*y**3*z**3 + 2*y**2 + z**6 + 3*z**2\n",
      " g2 = x**2 - x*y - y**2 - 2*z**2\n",
      " g3 = t + y**3 - z**3\n"
     ]
    }
   ],
   "source": [
    "from sympy.polys.polytools import parallel_poly_from_expr\n",
    "\n",
    "G = G1_grevlex.exprs\n",
    "G.append(t + y**3 - z**3)\n",
    "G = parallel_poly_from_expr(G)\n",
    "\n",
    "def print_groebner(G):\n",
    "    print('Базис Грёбнера:')\n",
    "    if (len(G) > 0):\n",
    "        try:\n",
    "            for i in range(len(G.exprs)):\n",
    "                print(' g', i+1, ' = ', G.exprs[i], sep='')\n",
    "        except AttributeError:\n",
    "            for i in range(len(G)):\n",
    "                print(' g', i+1, ' = ', G[i].as_expr(), sep='')\n",
    "    else:\n",
    "        print('is empty!')\n",
    "\n",
    "print_groebner(G[0])\n"
   ]
  },
  {
   "cell_type": "markdown",
   "metadata": {},
   "source": [
    "**Мы получили базис Грёбнера для $I$ по отношению к упорядочению 1-исключающего типа.**\n",
    "Этот базис намного проще найденного ранее, состоящего из 4-ёхэлементов, базиса."
   ]
  },
  {
   "cell_type": "markdown",
   "metadata": {},
   "source": [
    "# Другие применения базисов Грёбнера"
   ]
  },
  {
   "cell_type": "markdown",
   "metadata": {},
   "source": [
    "## Упражнения к параграфу 8 главы 2"
   ]
  },
  {
   "cell_type": "markdown",
   "metadata": {},
   "source": [
    "### Упражнение 1"
   ]
  },
  {
   "cell_type": "markdown",
   "metadata": {},
   "source": [
    "Определить, принадлежит ли полином $f = xy^3 - z^2 + y^5 - z^3$ идеалу $I = (-x^3 + y, x^2y - z)$."
   ]
  },
  {
   "cell_type": "code",
   "execution_count": 54,
   "metadata": {},
   "outputs": [
    {
     "name": "stdout",
     "output_type": "stream",
     "text": [
      "I =  [-x**3 + y, x**2*y - z]\n",
      "f =  x*y**3 + y**5 - z**3 - z**2 \n",
      "\n",
      "Базис Грёбнера:\n",
      " g1 = x**3 - y\n",
      " g2 = x**2*y - z\n",
      " g3 = x*y**3 - z**2\n",
      " g4 = x*z - y**2\n",
      " g5 = y**5 - z**3\n",
      "\n",
      "f принадлежит идеалу I \n",
      "\n"
     ]
    }
   ],
   "source": [
    "I = [-(x**3) + y, (x**2)*y - z]\n",
    "f = x*(y**3) - z**2 + y**5 - z**3\n",
    "\n",
    "print('I = ', I)\n",
    "print('f = ', f, '\\n')\n",
    "\n",
    "\n",
    "def in_ideal(f, I):\n",
    "    G = groebner(I, x, y, z, order='lex')\n",
    "    print_groebner(G)\n",
    "    if G.contains(f):                                   # метод contains() проверяет, принадлежит ли полином идеалу\n",
    "        print('\\nf принадлежит идеалу I \\n')\n",
    "    else:\n",
    "        print('\\nf не принадлежит идеалу I \\n')\n",
    "        \n",
    "in_ideal(f, I)\n"
   ]
  },
  {
   "cell_type": "markdown",
   "metadata": {},
   "source": [
    "### Упражнение 2"
   ]
  },
  {
   "cell_type": "markdown",
   "metadata": {},
   "source": [
    "Определить, принадлежит ли полином $f = x^3z - 2y^2$ идеалу $I = (xz - y, xy + 2z^2, y - z)$."
   ]
  },
  {
   "cell_type": "code",
   "execution_count": 55,
   "metadata": {},
   "outputs": [
    {
     "name": "stdout",
     "output_type": "stream",
     "text": [
      "I =  [x*z - y, x*y + 2*z**2, y - z]\n",
      "f =  x**3*z - 2*y**2 \n",
      "\n",
      "Базис Грёбнера:\n",
      " g1 = x*z - z\n",
      " g2 = y - z\n",
      " g3 = 2*z**2 + z\n",
      "\n",
      "f не принадлежит идеалу I \n",
      "\n"
     ]
    }
   ],
   "source": [
    "I = [x*z - y, x*y + 2*(z**2), y - z]\n",
    "f = (x**3)*z - 2*(y**2)\n",
    "\n",
    "print('I = ', I)\n",
    "print('f = ', f, '\\n')\n",
    "\n",
    "in_ideal(f, I)\n"
   ]
  },
  {
   "cell_type": "markdown",
   "metadata": {},
   "source": [
    "### Упражнение 3"
   ]
  },
  {
   "cell_type": "markdown",
   "metadata": {},
   "source": [
    "Найти точки в $\\mathbf{C}^3$, принадлежащие многообразию $\\mathbf{V}(x^2 + y^2 + z^2 - 1, x^2 + y^2 + z^2 - 2x, 2x - 3y - z)$"
   ]
  },
  {
   "cell_type": "code",
   "execution_count": 56,
   "metadata": {},
   "outputs": [
    {
     "name": "stdout",
     "output_type": "stream",
     "text": [
      "\n",
      " V[x**2 + y**2 + z**2 - 1, x**2 - 2*x + y**2 + z**2, 2*x - 3*y - z]\n",
      "\n",
      "Базис Грёбнера:\n",
      " g1 = 2*x - 1\n",
      " g2 = 3*y + z - 1\n",
      " g3 = 40*z**2 - 8*z - 23\n"
     ]
    }
   ],
   "source": [
    "F = [x**2 + y**2 + z**2 - 1, x**2 + y**2 + z**2 - 2*x, 2*x - 3*y - z]\n",
    "print('\\n V', F, '\\n', sep='')\n",
    "G = groebner(F, x, y, z, order='lex')\n",
    "print_groebner(G)\n"
   ]
  },
  {
   "cell_type": "markdown",
   "metadata": {},
   "source": [
    "А дальше привычный нам алгоритм исключения переменных:"
   ]
  },
  {
   "cell_type": "code",
   "execution_count": 57,
   "metadata": {},
   "outputs": [
    {
     "name": "stdout",
     "output_type": "stream",
     "text": [
      "\n",
      "Базис Грёбнера 2-ого исключающего идеала:\n",
      " g3 = 40*z**2 - 8*z - 23\n",
      "\n",
      "корни Z: [(1/10 + 3*sqrt(26)/20,), (-3*sqrt(26)/20 + 1/10,)]\n",
      "корни Z после проверки: [(1/10 + 3*sqrt(26)/20,), (-3*sqrt(26)/20 + 1/10,)]\n",
      "\n",
      "Базис Грёбнера 1-ого исключающего идеала:\n",
      " g2 = 3*y + z - 1\n",
      "\n",
      "корни Y: [[(-sqrt(26)/20 + 3/10,)], [(sqrt(26)/20 + 3/10,)]]\n",
      "корни Y после проверки: [[(-sqrt(26)/20 + 3/10,)], [(sqrt(26)/20 + 3/10,)]] \n",
      "\n",
      "Корни X:  [[(1/2,)], [(1/2,)]]\n",
      "\n",
      "Все решения системы: \n",
      "(1/2, -sqrt(26)/20 + 3/10, 1/10 + 3*sqrt(26)/20)\n",
      "(1/2, sqrt(26)/20 + 3/10, -3*sqrt(26)/20 + 1/10)\n"
     ]
    }
   ],
   "source": [
    "\n",
    "poly_system = G.exprs\n",
    "G2, I1 = first_exclusion_step([z], poly_system, x, y)\n",
    "\n",
    "print('\\nБазис Грёбнера 2-ого исключающего идеала:')\n",
    "print_groebner_of_ex(G2)\n",
    "\n",
    "\n",
    "roots_z = []\n",
    "poly_system = []\n",
    "for pol in G2:\n",
    "    f_z = Poly(pol[0], z)\n",
    "    poly_system.append(f_z)\n",
    "roots_z = solve_poly_system(poly_system, z)\n",
    "print('\\nкорни Z:', roots_z)\n",
    "\n",
    "for root_z in roots_z:\n",
    "    for pol in I1:\n",
    "        f_xy = Poly(pol[0], x, y)\n",
    "        if root_z not in solve(LC(f_xy), z):\n",
    "            break\n",
    "    else:\n",
    "        roots_z.remove(root_z)\n",
    "print('корни Z после проверки:', roots_z)\n",
    "\n",
    "\n",
    "poly_system = []\n",
    "for pol in I1:\n",
    "    poly_system.append(pol[0].subs(z, roots_z[0][0]))\n",
    "\n",
    "G1, I0 = exclusion_step([y], poly_system, I1, x)\n",
    "\n",
    "print('\\nБазис Грёбнера 1-ого исключающего идеала:')\n",
    "print_groebner_of_ex(G1)\n",
    "\n",
    "\n",
    "roots_y = []\n",
    "for root_z in roots_z:\n",
    "    poly_system = []\n",
    "    for pol in G1:\n",
    "        f_y = Poly(pol[0].as_expr().subs(z, root_z[0]), y)\n",
    "        poly_system.append(f_y)\n",
    "    solution = solve_poly_system(poly_system, y)\n",
    "    roots_y.append(solution)\n",
    "print('\\nкорни Y:', roots_y)\n",
    "\n",
    "for i in range(len(roots_z)):\n",
    "    for root_y in roots_y[i]:\n",
    "        for pol in I0:\n",
    "            f_x = Poly(pol[0].as_expr().subs({y:root_y, z:roots_z[i][0]}), x)\n",
    "            if ((root_y, roots_z[i][0])) not in solve(LC(f_x), y, z):\n",
    "                break\n",
    "        else:\n",
    "            roots_y[i].remove(root_y)\n",
    "print('корни Y после проверки:', roots_y, '\\n')\n",
    "\n",
    "\n",
    "roots_x = []\n",
    "for i in range(len(roots_z)):\n",
    "    for root_y in roots_y[i]:\n",
    "        poly_system = []\n",
    "        for pol in I0:\n",
    "            poly_system.append(Poly(pol[0].as_expr().subs({y:root_y, z:roots_z[i][0]}), x))\n",
    "        solution = solve_poly_system(poly_system, x)\n",
    "        roots_x.append(solution)\n",
    "print('Корни X: ', roots_x)\n",
    "\n",
    "\n",
    "solutions = []\n",
    "index = 0\n",
    "for i in range(len(roots_z)):\n",
    "    for j in range(len(roots_y[i])):\n",
    "        solutions.append((roots_x[index][0][0], roots_y[i][j][0], roots_z[i][0]))\n",
    "        index += 1\n",
    "print('\\nВсе решения системы: ')\n",
    "print(*solutions, sep='\\n')\n"
   ]
  },
  {
   "cell_type": "markdown",
   "metadata": {},
   "source": [
    "Таким образом, мы получили все две точки, принадлежащие многообразию $\\mathbf{V}(x^2 + y^2 + z^2 - 1, x^2 + y^2 + z^2 - 2x, 2x - 3y - z)$"
   ]
  },
  {
   "cell_type": "markdown",
   "metadata": {},
   "source": [
    "### Упражнение 5"
   ]
  },
  {
   "cell_type": "markdown",
   "metadata": {},
   "source": [
    "Рассмотрим функцию $f(x, y) = (x^2 + y^2 - 4)(x^2 + y^2 - 1) + (x - 3/2)^2 + (y - 3/2)^2$\n",
    "\n",
    "(a) Найти все особые точки функции $f(x, y)$.\n",
    "\n",
    "(b) Определить, какие из них являются локальными максимумами, какие - минимумами, а какие - седлами.\n",
    "\n",
    "**Решение**\n",
    "\n",
    "Рассмотрим частные производные функции и приравняем их к нулю, чтобы найти особые точки. Заметим, что мы получили полиномиальную систему уравнений. Решим её с помощью базисов Грёбнера."
   ]
  },
  {
   "cell_type": "code",
   "execution_count": 58,
   "metadata": {},
   "outputs": [
    {
     "name": "stdout",
     "output_type": "stream",
     "text": [
      "\n",
      "f = (x - 1.5)**2 + (y - 1.5)**2 + (x**2 + y**2 - 4)*(x**2 + y**2 - 1)\n",
      "I = (f'_x, f'_y\n",
      "\n",
      "f'_x = 2*x*(x**2 + y**2 - 4) + 2*x*(x**2 + y**2 - 1) + 2*x - 3.0\n",
      "f'_x = 2*y*(x**2 + y**2 - 4) + 2*y*(x**2 + y**2 - 1) + 2*y - 3.0 \n",
      "\n",
      "Базис Грёбнера:\n",
      " g1 = 1.0*x - 1.0*y\n",
      " g2 = 1.0*y**3 - 1.0*y - 0.375\n",
      "\n",
      "Базис Грёбнера 1-ого исключающего идеала:\n",
      " g2 = 1.0*y**3 - 1.0*y - 0.375\n",
      "\n",
      "корни Y: [(-0.651387818865997,), (-0.500000000000000,), (1.15138781886600,)]\n",
      "корни Y после проверки: [(-0.651387818865997,), (-0.500000000000000,), (1.15138781886600,)]\n",
      "\n",
      "корни X: [[(-0.651387818865997,)], [(-0.500000000000000,)], [(1.15138781886600,)]] \n",
      "\n",
      "Все решения системы: \n",
      "(-0.651387818865997, -0.651387818865997)\n",
      "(-0.500000000000000, -0.500000000000000)\n",
      "(1.15138781886600, 1.15138781886600)\n"
     ]
    }
   ],
   "source": [
    "from sympy import diff\n",
    "\n",
    "f = (x**2 + y**2 - 4)*(x**2 + y**2 - 1) + (x - 1.5)**2 + (y - 1.5)**2\n",
    "\n",
    "f_x = diff(f, x)\n",
    "f_y = diff(f, y)\n",
    "I = [f_x, f_y]\n",
    "\n",
    "print('\\nf =', f)\n",
    "print(\"I = (f'_x, f'_y\")\n",
    "print(\"\\nf'_x =\", f_x)\n",
    "print(\"f'_x =\", f_y, '\\n')\n",
    "\n",
    "\n",
    "G = groebner(I, x, y, order='lex')\n",
    "print_groebner(G)\n",
    "\n",
    "poly_system = G.exprs\n",
    "G1, I0 = first_exclusion_step([y], poly_system, x)\n",
    "\n",
    "print('\\nБазис Грёбнера 1-ого исключающего идеала:')\n",
    "print_groebner_of_ex(G1)\n",
    "\n",
    "\n",
    "roots_y = []\n",
    "poly_system = []\n",
    "for pol in G1:\n",
    "    f_y = Poly(pol[0], y)\n",
    "    poly_system.append(f_y)\n",
    "roots_y = solve_poly_system(poly_system, y)\n",
    "print('\\nкорни Y:', roots_y)\n",
    "\n",
    "for root_y in roots_y:\n",
    "    for pol in I0:\n",
    "        f_x = Poly(pol[0], x)\n",
    "        if root_y not in solve(LC(f_x), y):\n",
    "            break\n",
    "    else:\n",
    "        roots_y.remove(root_y)\n",
    "print('корни Y после проверки:', roots_y)\n",
    "\n",
    "roots_x = []\n",
    "for root_y in roots_y:\n",
    "    poly_system = []\n",
    "    for pol in I0:\n",
    "        poly_system.append(pol[0].subs(y, root_y[0]))\n",
    "    solution = solve_poly_system(poly_system, x)\n",
    "    roots_x.append(solution)\n",
    "print('\\nкорни X:', roots_x, '\\n')\n",
    "\n",
    "\n",
    "solutions = []\n",
    "for i in range(len(roots_y)):\n",
    "    for root_x in roots_x[i]:\n",
    "        solutions.append((root_x[0], roots_y[i][0]))\n",
    "print('Все решения системы: ')\n",
    "print(*solutions, sep='\\n')\n",
    "\n"
   ]
  },
  {
   "cell_type": "markdown",
   "metadata": {},
   "source": [
    "Теперь определим, какие из особых точек являются локальными максимумами, какие - минимумами, а какие - седлами. Для этого подставим каждую особую точку $M_0$ в производные второго порядка. Для компактности будем использовать обозначения $A = f''_{xx}(M_0), B = f''_{xy}(M_0), C = f''_{yy}(M_0)$.\n",
    "\n",
    "Если $AC - B^2 < 0$, то в точке $M_0$ нет экстремума, следовательно, точка седловая.\n",
    "\n",
    "Если $AC - B^2 > 0$ и $A > 0$, то это локальный минимум, если же в этом случае $A < 0$, то точка - максимум."
   ]
  },
  {
   "cell_type": "code",
   "execution_count": 59,
   "metadata": {},
   "outputs": [
    {
     "name": "stdout",
     "output_type": "stream",
     "text": [
      "\n",
      "f\"_xx = 4*(3*x**2 + y**2 - 2) \n",
      "f\"_xy = 8*x*y \n",
      "f\"_yy = 4*(x**2 + 3*y**2 - 2)\n",
      "Точка (-0.651387818865997, -0.651387818865997) - седловая\n",
      "Точка (-0.500000000000000, -0.500000000000000) - локальный максимум\n",
      "Точка (1.15138781886600, 1.15138781886600) - локальный минимум\n"
     ]
    }
   ],
   "source": [
    "f_xx = diff(f, x, x)\n",
    "f_xy = diff(f, x, y)\n",
    "f_yy = diff(f, y, y)\n",
    "print('\\nf\"_xx =', f_xx, '\\nf\"_xy =', f_xy, '\\nf\"_yy =', f_yy)\n",
    "\n",
    "for sol in solutions:\n",
    "    f_xx_m = f_xx.subs({x:sol[0], y:sol[1]})\n",
    "    f_xy_m = f_xy.subs({x:sol[0], y:sol[1]})\n",
    "    f_yy_m = f_yy.subs({x:sol[0], y:sol[1]})\n",
    "    if f_xx_m*f_yy_m - f_xy_m < 0:\n",
    "        print('Точка', sol, '- седловая')\n",
    "    elif f_xx_m*f_yy_m - f_xy_m > 0:\n",
    "        if f_xx_m > 0:\n",
    "            print('Точка', sol, '- локальный минимум')\n",
    "        elif f_xx_m < 0:\n",
    "            print('Точка', sol, '- локальный максимум')\n"
   ]
  },
  {
   "cell_type": "markdown",
   "metadata": {},
   "source": [
    "### Упражнение 8 ###"
   ]
  },
  {
   "cell_type": "markdown",
   "metadata": {},
   "source": [
    "Доказать, что параметрическая поверхность $T$, заданная уравнениями $$x = (2 + cost)cosu ,$$ $$y = (2 + cost)sinu ,$$ $$z = sint$$\n",
    "принадлежит некоторому аффинному многообразию в $\\mathbf{R}^3$\n",
    "\n",
    "(a) Нарисовать $T$\n"
   ]
  },
  {
   "cell_type": "code",
   "execution_count": 60,
   "metadata": {},
   "outputs": [
    {
     "data": {
      "text/plain": [
       "<mpl_toolkits.mplot3d.art3d.Poly3DCollection at 0x29bc3d74208>"
      ]
     },
     "execution_count": 60,
     "metadata": {},
     "output_type": "execute_result"
    },
    {
     "data": {
      "image/png": "[encoded data removed]",
      "text/plain": [
       "<Figure size 432x288 with 1 Axes>"
      ]
     },
     "metadata": {
      "needs_background": "light"
     },
     "output_type": "display_data"
    }
   ],
   "source": [
    "from matplotlib.pyplot import figure\n",
    "from mpl_toolkits.mplot3d import Axes3D\n",
    "from numpy import (linspace, meshgrid, sin, cos)\n",
    "from sympy.abc import u, t\n",
    "%matplotlib inline\n",
    "\n",
    "l = 10\n",
    "N = 50\n",
    "v = linspace(-l, l, N)\n",
    "t, u = meshgrid(v, v)\n",
    "\n",
    "x = (2 + cos(t))*cos(u)\n",
    "y = (2 + cos(t))*sin(u)\n",
    "z = sin(t)\n",
    "\n",
    "fig = figure()\n",
    "ax = Axes3D(fig)\n",
    "ax.plot_surface(x, y, z, rstride=1, cstride=1)\n"
   ]
  },
  {
   "cell_type": "markdown",
   "metadata": {},
   "source": [
    "(b) Положить $a = cost, b = sint, c = cosu, d = sinu$ и переписать уравнения поверхности в переменных $a, b, c, d, x, y, z$.\n"
   ]
  },
  {
   "cell_type": "markdown",
   "metadata": {},
   "source": [
    "$$x = 2 + ac,$$ $$y = 2 + ad,$$ $$z = b$$\n",
    "\n",
    "(c) Пары переменных $a, b$ и $c, d$ **не** являются *независимыми*, так как выполняются полиномиальные тождества $$a^2 + b^2 - 1 = 0,$$ $$c^2 + d^2 - 1 = 0$$\n",
    "\n",
    "Составим систему из пяти уравнений, присоединяя уравнения-тождества к уравнениям поверхности. Найдём базис Грёбнера соответствующего идеала, используя lex-упорядочение с $a>b>c>d>x>y>z$.\n",
    "\n"
   ]
  },
  {
   "cell_type": "code",
   "execution_count": 61,
   "metadata": {},
   "outputs": [
    {
     "name": "stdout",
     "output_type": "stream",
     "text": [
      "I = [a*c - x + 2, a*d - y + 2, b - z, a**2 + b**2 - 1, c**2 + d**2 - 1]\n",
      "Базис Грёбнера:\n",
      " g1 = a - c*x + 2*c - d*y + 2*d\n",
      " g2 = b - z\n",
      " g3 = c**2 + d**2 - 1\n",
      " g4 = c*d*x - 2*c*d + d**2*y - 2*d**2 - y + 2\n",
      " g5 = c*d*z**2 - c*d + x*y - 2*x - 2*y + 4\n",
      " g6 = c*y - 2*c - d*x + 2*d\n",
      " g7 = d**2*z**2 - d**2 + y**2 - 4*y + 4\n",
      " g8 = x**2 - 4*x + y**2 - 4*y + z**2 + 7\n",
      "\n",
      "\n"
     ]
    }
   ],
   "source": [
    "from sympy.abc import (a, b, c, d, x, y, z)\n",
    "\n",
    "# a = cos(t)\n",
    "# b = sin(t)\n",
    "# c = cos(u)\n",
    "# d = sin(u)\n",
    "\n",
    "# x = 2 + a*c\n",
    "# y = 2 + a*d\n",
    "# z = b\n",
    "\n",
    "I = [a*c - x + 2, a*d - y + 2, b - z, a**2 + b**2 - 1, c**2 + d**2 - 1]\n",
    "print('I =', I)\n",
    "G = groebner(I, a, b, c, d, x, y, z, order='lex')\n",
    "print_groebner(G)\n",
    "print('\\n')\n"
   ]
  },
  {
   "cell_type": "markdown",
   "metadata": {},
   "source": [
    "В найденном базисе один полином $g_{8}$ зависит только от $x, y, z$. Он и задаёт многообразие, содержащее $T$."
   ]
  },
  {
   "cell_type": "markdown",
   "metadata": {},
   "source": [
    "### Упражнение 10 ###"
   ]
  },
  {
   "cell_type": "markdown",
   "metadata": {},
   "source": [
    "Примените метод множителей Лагранжа и найдите точку $s$ на поверхности $x^4 + y^2 + z^2 - 1 = 0$, ближайшую к точке $(1, 1, 1)$ в $\\mathbf{R}^3$.\n",
    "\n",
    "**Решение**\n",
    "\n",
    "Запишем задачу в стандартном виде. Нам нужно найти минимум функции $(x - 1)^2 + (y - 1)^2 + (z - 1)^2$ при условии $x^4 + y^2 + z^2 - 1 = 0$. $$\\left\\{ \\begin{array}{ll}\n",
    " (x - 1)^2 + (y - 1)^2 + (z - 1)^2 \\to min\\\\\n",
    " x^4 + y^2 + z^2 - 1 = 0\n",
    "  \\end{array} \\right.$$\n",
    "Составим функцию Лагранжа:\n",
    "$$L(x, y, z, \\lambda) = \\lambda_{0}((x - 1)^2 + (y - 1)^2 + (z - 1)^2) + \\lambda_{1}(x^4 + y^2 + z^2 - 1)$$ и вычислим частные производные:"
   ]
  },
  {
   "cell_type": "code",
   "execution_count": 62,
   "metadata": {},
   "outputs": [
    {
     "name": "stdout",
     "output_type": "stream",
     "text": [
      "L_x = 4*l*x**3 + m*(2*x - 2) \n",
      "\n",
      "L_y = 2*l*y + m*(2*y - 2) \n",
      "\n",
      "L_z = 2*l*z + m*(2*z - 2) \n",
      "\n"
     ]
    }
   ],
   "source": [
    "from sympy.abc import m, l\n",
    "\n",
    "L = m*((x - 1)**2 + (y - 1)**2 + (z - 1)**2) + l*(x**4 + y**2 + z**2 - 1)\n",
    "\n",
    "L_x = diff(L, x)\n",
    "L_y = diff(L, y)\n",
    "L_z = diff(L, z)\n",
    "\n",
    "print('L_x =', L_x, '\\n')\n",
    "print('L_y =', L_y, '\\n')\n",
    "print('L_z =', L_z, '\\n')\n"
   ]
  },
  {
   "cell_type": "markdown",
   "metadata": {},
   "source": [
    "$$\\frac{ \\partial L }{ \\partial x }(x, y, z, \\lambda) = \\lambda_0(2x - 2) + 4\\lambda_1x^3 ,$$\n",
    "$$\\frac{ \\partial L }{ \\partial y }(x, y, z, \\lambda) = \\lambda_0(2y - 2) + 2\\lambda_1y ,$$\n",
    "$$\\frac{ \\partial L }{ \\partial z }(x, y, z, \\lambda) = \\lambda_0(2z - 2) + 2\\lambda_1z$$\n",
    "\n",
    "Образуем с их помощью систему:\n",
    "$$\\left\\{ \\begin{array}{ll}\n",
    " \\lambda_0(2x - 2) + 4\\lambda_1x^3 = 0\\\\\n",
    " \\lambda_0(2y - 2) + 2\\lambda_1y = 0\\\\\n",
    " \\lambda_0(2z - 2) + 2\\lambda_1z = 0\\\\\n",
    " x^4 + y^2 + z^2 - 1 = 0\n",
    "  \\end{array} \\right.$$\n",
    "  \n",
    "Рассмотрим два случая:\n",
    "\n",
    "а) Пусть $\\lambda_0 = 0$. Но тогда система имеет решение лишь при $\\lambda_0 = \\lambda_1 = 0$, и экстремальных точек нет.\n",
    "\n",
    "\n",
    "б) Пусть $\\lambda_0 \\not= 0$. Положим тогда $\\lambda_0 = 1$:\n",
    "$$\\left\\{ \\begin{array}{ll}\n",
    " x - 1 + 2\\lambda_1x^3 = 0\\\\\n",
    " y - 1 + \\lambda_1y = 0\\\\\n",
    " z - 1 + \\lambda_1z = 0\\\\\n",
    " x^4 + y^2 + z^2 - 1 = 0\n",
    "  \\end{array} \\right.$$\n",
    "\n",
    "Найдём решения с помощью базисов Грёбнера, используя lex-упорядочение $\\lambda_1 > x > y > z$:"
   ]
  },
  {
   "cell_type": "code",
   "execution_count": 63,
   "metadata": {},
   "outputs": [
    {
     "name": "stdout",
     "output_type": "stream",
     "text": [
      "I = [2*l*x**3 + x - 1, l*y + y - 1, l*z + z - 1, x**4 + y**2 + z**2 - 1] \n",
      "\n",
      "Базис Грёбнера:\n",
      " g1 = 8*l - 64*z**9 + 256*z**8 - 304*z**7 - 96*z**6 + 471*z**5 - 232*z**4 - 176*z**3 + 172*z**2 - 4*z - 24\n",
      " g2 = 4*x - 192*z**9 + 640*z**8 - 400*z**7 - 896*z**6 + 1285*z**5 + 54*z**4 - 840*z**3 + 252*z**2 + 156*z - 68\n",
      " g3 = y - z\n",
      " g4 = 64*z**10 - 256*z**9 + 304*z**8 + 96*z**7 - 471*z**6 + 232*z**5 + 176*z**4 - 172*z**3 + 4*z**2 + 32*z - 8\n"
     ]
    }
   ],
   "source": [
    "I = [2*l*x**3 + x - 1, l*y + y - 1, l*z + z - 1, x**4 + y**2 + z**2 - 1]\n",
    "G = groebner(I, l, x, y, z, order='lex')\n",
    "print('I =', I, '\\n')\n",
    "print_groebner(G)\n"
   ]
  },
  {
   "cell_type": "markdown",
   "metadata": {},
   "source": [
    "Мы используем уже испытанную выше технику и легко найдём список решений.\n"
   ]
  },
  {
   "cell_type": "code",
   "execution_count": 64,
   "metadata": {},
   "outputs": [
    {
     "name": "stdout",
     "output_type": "stream",
     "text": [
      "\n",
      "Базис Грёбнера 3-ого исключающего идеала:\n",
      " g4 = 64*z**10 - 256*z**9 + 304*z**8 + 96*z**7 - 471*z**6 + 232*z**5 + 176*z**4 - 172*z**3 + 4*z**2 + 32*z - 8\n",
      "\n",
      "корни Z: [(0.6348187101019142,), (-0.623520405481625,)]\n",
      "\n",
      "Базис Грёбнера 2-ого исключающего идеала:\n",
      " g3 = y - z\n",
      "\n",
      "корни Y: [[(0.634818710101914,)], [(-0.623520405481625,)]]\n",
      "\n",
      "Базис Грёбнера 1-ого исключающего идеала:\n",
      " g2 = 4*x - 192*z**9 + 640*z**8 - 400*z**7 - 896*z**6 + 1285*z**5 + 54*z**4 - 840*z**3 + 252*z**2 + 156*z - 68\n",
      "\n",
      "Корни X: [[(0.663676222858363,)], [(-0.686760757676232,)]]\n",
      "\n",
      "Корни lambda: [[(0.575252877848319,)], [(-2.60379675027016,)]]\n",
      "\n",
      "Все решения системы: \n",
      "(0.575252877848319, 0.663676222858363, 0.634818710101914, 0.6348187101019142)\n",
      "(-2.60379675027016, -0.686760757676232, -0.623520405481625, -0.623520405481625)\n"
     ]
    }
   ],
   "source": [
    "poly_system = G.exprs\n",
    "\n",
    "G3, I2 = first_exclusion_step([z], poly_system, l, x, y)\n",
    "\n",
    "print('\\nБазис Грёбнера 3-ого исключающего идеала:')\n",
    "print_groebner_of_ex(G3)\n",
    "\n",
    "\n",
    "'''\n",
    "roots_z = []\n",
    "poly_system = []                            # Функция solve_poly_system из библиотеки SymPy не нашла правильные\n",
    "for pol in G3:                              # корни из-за больших степеней в уравнении от z и погрешностей,\n",
    "    f_z = Poly(pol[0], z)                   # поэтому я нашёл их другим методом\n",
    "    poly_system.append(f_z)\n",
    "roots_z = solve_poly_system(poly_system, z)\n",
    "print('\\nкорни Z:', roots_z)\n",
    "'''\n",
    "\n",
    "roots_z = [(0.6348187101019142,), (-0.623520405481625,)]\n",
    "print('\\nкорни Z:', roots_z)\n",
    "\n",
    "\n",
    "poly_system = []\n",
    "for pol in I2:\n",
    "    poly_system.append(pol[0].subs(z, roots_z[0][0]))\n",
    "    \n",
    "G2, I1 = exclusion_step([y], poly_system, I2, l, x)\n",
    "\n",
    "print('\\nБазис Грёбнера 2-ого исключающего идеала:')\n",
    "print_groebner_of_ex(G2)\n",
    "\n",
    "\n",
    "roots_y = []\n",
    "for root_z in roots_z:\n",
    "    poly_system = []\n",
    "    for pol in G2:\n",
    "        f_y = Poly(pol[0].as_expr().subs(z, root_z[0]), y)\n",
    "        poly_system.append(f_y)\n",
    "    solution = solve_poly_system(poly_system, y)\n",
    "    roots_y.append(solution)\n",
    "print('\\nкорни Y:', roots_y)\n",
    "\n",
    "\n",
    "poly_system = []\n",
    "for pol in I1:\n",
    "    poly_system.append(pol[0].subs({y:roots_y[0][0], z:roots_z[0][0]}))\n",
    "\n",
    "G1, I0 = exclusion_step([x], poly_system, I1, l)\n",
    "\n",
    "print('\\nБазис Грёбнера 1-ого исключающего идеала:')\n",
    "print_groebner_of_ex(G1)\n",
    "\n",
    "\n",
    "roots_x = []\n",
    "for i in range(len(roots_z)):\n",
    "    for root_y in roots_y[i]:\n",
    "        poly_system = []\n",
    "        for pol in G1:\n",
    "            poly_system.append(Poly(pol[0].as_expr().subs({y:root_y, z:roots_z[i][0]}), l, x))\n",
    "        solution = solve_poly_system(poly_system, x)\n",
    "        roots_x.append(solution)\n",
    "print('\\nКорни X:', roots_x)\n",
    "\n",
    "\n",
    "roots_l = []\n",
    "for i in range(len(roots_z)):\n",
    "    for j in range(len(roots_y[i])):\n",
    "        poly_system = []\n",
    "        for pol in I0:\n",
    "            poly_system.append(Poly(pol[0].as_expr().subs({x:roots_x[i][j][0], y:roots_y[i][j][0], z:roots_z[i][0]}), l))\n",
    "        solution = solve_poly_system(poly_system, l)\n",
    "        roots_l.append(solution)\n",
    "print('\\nКорни lambda:', roots_l)\n",
    "\n",
    "\n",
    "solutions = []\n",
    "index = 0\n",
    "for i in range(len(roots_z)):\n",
    "    for j in range(len(roots_y[i])):\n",
    "        solutions.append((roots_l[index][0][0], roots_x[index][0][0], roots_y[i][j][0], roots_z[i][0]))\n",
    "        index += 1\n",
    "print('\\nВсе решения системы: ')\n",
    "print(*solutions, sep='\\n')\n"
   ]
  },
  {
   "cell_type": "markdown",
   "metadata": {},
   "source": [
    "\n",
    "Итак, мы получили две подозрительные на экстремум точки. Определим, какая из них является минимумом. Для этого найдём дифференциал второго порядка.\n"
   ]
  },
  {
   "cell_type": "code",
   "execution_count": 65,
   "metadata": {},
   "outputs": [
    {
     "name": "stdout",
     "output_type": "stream",
     "text": [
      "L_xx = 2*(6*l*x**2 + 1) \n",
      "\n",
      "L_yy = 2*(l + 1) \n",
      "\n",
      "L_zz = 2*(l + 1) \n",
      "\n",
      "L_xy = 0 \n",
      "\n",
      "L_xz = 0 \n",
      "\n",
      "L_yz = 0 \n",
      "\n"
     ]
    }
   ],
   "source": [
    "L = ((x - 1)**2 + (y - 1)**2 + (z - 1)**2) + l*(x**4 + y**2 + z**2 - 1)\n",
    "\n",
    "L_xx = diff(L, x, x)\n",
    "L_yy = diff(L, y, y)\n",
    "L_zz = diff(L, z, z)\n",
    "L_xy = diff(L, x, y)\n",
    "L_xz = diff(L, x, z)\n",
    "L_yz = diff(L, y, z)\n",
    "\n",
    "print('L_xx =', L_xx, '\\n')\n",
    "print('L_yy =', L_yy, '\\n')\n",
    "print('L_zz =', L_zz, '\\n')\n",
    "print('L_xy =', L_xy, '\\n')\n",
    "print('L_xz =', L_xz, '\\n')\n",
    "print('L_yz =', L_yz, '\\n')\n"
   ]
  },
  {
   "cell_type": "markdown",
   "metadata": {},
   "source": [
    "$$d^2L = L''_{xx}(dx)^2 + L''_{yy}(dy)^2 + L''_{zz}(dz)^2 + 2L''_{xy}(dxdy) + 2L''_{xz}(dxdz) + 2L''_{yz}(dydz)$$\n",
    "$$d^2L = (12\\lambda x^2 + 2)(dx)^2 + (2\\lambda + 2)(dy)^2 + (2\\lambda + 2)(dz)^2$$\n",
    "\n",
    "Подставим найденные точки в выражение"
   ]
  },
  {
   "cell_type": "code",
   "execution_count": 66,
   "metadata": {},
   "outputs": [
    {
     "name": "stdout",
     "output_type": "stream",
     "text": [
      "d^2L = 5.04055289815692(dx)^2 + 3.15050575569664(dy)^2 + 3.15050575569664(dz)^2\n",
      "\n",
      "d^2L = -12.7366669614434(dx)^2 + -3.20759350054033(dy)^2 + -3.20759350054033(dz)^2\n",
      "\n"
     ]
    }
   ],
   "source": [
    "a1 = L_xx.subs({l:solutions[0][0], x:solutions[0][1], y:solutions[0][2], z:solutions[0][3]})\n",
    "b1 = L_yy.subs({l:solutions[0][0], x:solutions[0][1], y:solutions[0][2], z:solutions[0][3]})\n",
    "c1 = L_zz.subs({l:solutions[0][0], x:solutions[0][1], y:solutions[0][2], z:solutions[0][3]})\n",
    "\n",
    "a2 = L_xx.subs({l:solutions[1][0], x:solutions[1][1], y:solutions[1][2], z:solutions[1][3]})\n",
    "b2 = L_yy.subs({l:solutions[1][0], x:solutions[1][1], y:solutions[1][2], z:solutions[1][3]})\n",
    "c2 = L_zz.subs({l:solutions[1][0], x:solutions[1][1], y:solutions[1][2], z:solutions[1][3]})\n",
    "\n",
    "print('d^2L = ', a1, '(dx)^2 + ', b1, '(dy)^2 + ', c1, '(dz)^2\\n', sep='')\n",
    "print('d^2L = ', a2, '(dx)^2 + ', b2, '(dy)^2 + ', c2, '(dz)^2\\n', sep='')\n"
   ]
  },
  {
   "cell_type": "markdown",
   "metadata": {},
   "source": [
    "Итак, мы получили:\n",
    "$$d^2L = 5(dx)^2 + 3,15(dy)^2 + 3,15(dz)^2 > 0,$$ значит, мы получили локальный минимум, то есть нашли точку $s = (0,664; 0,635; 0,635)$ на поверхности $x^4 + y^2 + z^2 - 1 = 0$, ближайшую к точке $(1, 1, 1)$ в $\\mathbf{R}^3$.\n",
    "\n",
    "При этом мы так же получили локальный максимум, так как в точке $(-0,687; -0,623; -0,623)$:\n",
    "$$d^2L = -12,7(dx)^2 - 3,2(dy)^2 - 3,2(dz)^2 < 0$$\n"
   ]
  },
  {
   "cell_type": "markdown",
   "metadata": {},
   "source": [
    "### Упражнение 11 ###"
   ]
  },
  {
   "cell_type": "markdown",
   "metadata": {},
   "source": [
    "$$a + b + c - 3 = 0,$$\n",
    "$$a^2 + b^2 + c^2 - 5 = 0,$$\n",
    "$$a^3 + b^3 + c^3 - 7 = 0$$\n",
    "\n",
    "(a) Доказать, что $a^4 + b^4 + c^4 - 9 = 0$. Иными словами, доказать, что $a^4 + b^4 + c^4 - 9 \\in (a + b + c - 3, a^2 + b^2 + c^2 - 5, a^3 + b^3 + c^3 - 7)$\n",
    "\n",
    "**Решение**"
   ]
  },
  {
   "cell_type": "code",
   "execution_count": 68,
   "metadata": {},
   "outputs": [
    {
     "name": "stdout",
     "output_type": "stream",
     "text": [
      "I =  [a + b + c - 3, a**2 + b**2 + c**2 - 5, a**3 + b**3 + c**3 - 7]\n",
      "f =  a**4 + b**4 + c**4 - 9 \n",
      "\n",
      "Базис Грёбнера:\n",
      " g1 = a + b + c - 3\n",
      " g2 = b**2 + b*c - 3*b + c**2 - 3*c + 2\n",
      " g3 = 3*c**3 - 9*c**2 + 6*c + 2\n",
      "\n",
      "f принадлежит идеалу I \n",
      "\n"
     ]
    }
   ],
   "source": [
    "from sympy.abc import a, b, c\n",
    "\n",
    "I = [a + b + c - 3, a**2 + b**2 + c**2 - 5, a**3 + b**3 + c**3 - 7]\n",
    "f = a**4 + b**4 + c**4 - 9\n",
    "\n",
    "print('I = ', I)\n",
    "print('f = ', f, '\\n')\n",
    "\n",
    "def in_ideal(f, I, a, b, c):\n",
    "    G = groebner(I, a, b, c, order='lex')\n",
    "    print_groebner(G)\n",
    "    if G.contains(f):                                   # метод contains() проверяет, принадлежит ли полином идеалу\n",
    "        print('\\nf принадлежит идеалу I \\n')\n",
    "    else:\n",
    "        print('\\nf не принадлежит идеалу I \\n')\n",
    "        \n",
    "in_ideal(f, I, a, b, c)\n"
   ]
  },
  {
   "cell_type": "markdown",
   "metadata": {},
   "source": [
    "(b) Докажите, что $a^5 + b^5 + c^5 \\not= 11$"
   ]
  },
  {
   "cell_type": "code",
   "execution_count": 69,
   "metadata": {},
   "outputs": [
    {
     "name": "stdout",
     "output_type": "stream",
     "text": [
      "Базис Грёбнера:\n",
      " g1 = a + b + c - 3\n",
      " g2 = b**2 + b*c - 3*b + c**2 - 3*c + 2\n",
      " g3 = 3*c**3 - 9*c**2 + 6*c + 2\n",
      "\n",
      "f не принадлежит идеалу I \n",
      "\n"
     ]
    }
   ],
   "source": [
    "f = a**5 + b**5 + c**5 - 11\n",
    "\n",
    "in_ideal(f, I, a, b, c)\n"
   ]
  },
  {
   "cell_type": "markdown",
   "metadata": {},
   "source": [
    "$a^5 + b^5 + c^5 - 11 \\not\\in (a + b + c - 3, a^2 + b^2 + c^2 - 5, a^3 + b^3 + c^3 - 7)$, следовательно, $a^5 + b^5 + c^5 \\not=11$\n"
   ]
  },
  {
   "cell_type": "code",
   "execution_count": null,
   "metadata": {},
   "outputs": [],
   "source": []
  }
 ],
 "metadata": {
  "kernelspec": {
   "display_name": "Python 3",
   "language": "python",
   "name": "python3"
  },
  "language_info": {
   "codemirror_mode": {
    "name": "ipython",
    "version": 3
   },
   "file_extension": ".py",
   "mimetype": "text/x-python",
   "name": "python",
   "nbconvert_exporter": "python",
   "pygments_lexer": "ipython3",
   "version": "3.7.3"
  }
 },
 "nbformat": 4,
 "nbformat_minor": 2
}
