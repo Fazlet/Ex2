{
 "cells": [
  {
   "cell_type": "markdown",
   "metadata": {},
   "source": [
    "# Теоремы об исключении и продолжении"
   ]
  },
  {
   "cell_type": "markdown",
   "metadata": {},
   "source": [
    "## Упражнения к параграфу 1"
   ]
  },
  {
   "cell_type": "markdown",
   "metadata": {},
   "source": [
    "### Упражнение 2"
   ]
  },
  {
   "cell_type": "markdown",
   "metadata": {},
   "source": [
    "Рассмотрим систему уравнений $$x^2 + 2y^2 = 3$$\n",
    "                         $$x^2 + xy + y^2 = 3$$\n",
    "(a) Пусть $I = (x^2 + 2y^2 - 3, x^2 + xy + y^2 - 3)$ - соответствующий идеал.\n",
    "Найти базисы идеалов $I\\cap k[x]$ и $I\\cap k[y]$.\n",
    "\n",
    "(b) Найти все решения системы.\n",
    "\n",
    "(c) Определить, какие из этих решений рациональны.\n",
    "\n",
    "(d) Найти наименьшее поле $k$ такое, что все решения принадлежат $k^2$.\n",
    "\n",
    "**Решение.**\n",
    "\n",
    "По **теореме об исключении** базис $G_1$ идеала $I_1 = I\\cap k[x]$ равен $G \\cap k[x]$, где $G$ - базис Грёбнера идеала $I$.\n",
    "\n",
    "Тогда для начала найдём базис Грёбнера $G$ относительно лексикографического порядка $y > x$. Для этого нам понадобится функция $groebner$ из библиотеки $SymPy$."
   ]
  },
  {
   "cell_type": "code",
   "execution_count": 19,
   "metadata": {},
   "outputs": [
    {
     "name": "stdout",
     "output_type": "stream",
     "text": [
      "\n",
      "Базис Грёбнера относительно y > x:\n",
      "g1 = x**3 - 3*x + 2*y\n",
      "g2 = x**4 - 4*x**2 + 3\n"
     ]
    }
   ],
   "source": [
    "from sympy.polys.polytools import groebner\n",
    "from sympy.abc import x, y\n",
    "\n",
    "F = [y**2 + x*y + x**2 - 3, 2*y**2 + x**2 - 3]           # Идеал I\n",
    "g = groebner(F, y, x, order='lex')                       # Базис Грёбнера g\n",
    "\n",
    "print('\\nБазис Грёбнера относительно y > x:')\n",
    "for i in range(len(g.exprs)):\n",
    "    print('g', i+1, ' = ', g.exprs[i], sep='')           # метод .exprs позволяет записать полином в виде красивого выражения"
   ]
  },
  {
   "cell_type": "markdown",
   "metadata": {},
   "source": [
    "Теперь несложно найти $G_1 = G \\cap k[x]$:"
   ]
  },
  {
   "cell_type": "code",
   "execution_count": 21,
   "metadata": {},
   "outputs": [
    {
     "name": "stdout",
     "output_type": "stream",
     "text": [
      "\n",
      "Базис Грёбнера 1-ого исключающего идеала:\n",
      "g2 = x**4 - 4*x**2 + 3\n",
      "\n",
      "\n"
     ]
    }
   ],
   "source": [
    "from sympy import Poly, LC\n",
    "from sympy import solve, solve_poly_system\n",
    "\n",
    "polys = g.exprs\n",
    "G1 = []\n",
    "index = 1\n",
    "for pol in polys:\n",
    "    f = Poly(pol, x)                                     # Представим каждое выражение как полином от переменной X\n",
    "    if f.free_symbols_in_domain != {y}:                  # Если помимо переменной X в полиноме НЕТ свободной переменной Y,\n",
    "        G1.append((f.as_expr(), index))                  # то этот полином содержится в G1\n",
    "    index += 1\n",
    "print('\\nБазис Грёбнера 1-ого исключающего идеала:')\n",
    "for pol in G1:\n",
    "    print('g', pol[1], ' = ', pol[0], sep='')\n",
    "print('\\n')"
   ]
  },
  {
   "cell_type": "markdown",
   "metadata": {},
   "source": [
    "Аналогично найдём $G1 = G \\cap k[y]$. Для этого нам нужен лексикографический порядок $x > y$."
   ]
  },
  {
   "cell_type": "code",
   "execution_count": 22,
   "metadata": {},
   "outputs": [
    {
     "name": "stdout",
     "output_type": "stream",
     "text": [
      "\n",
      "Базис Грёбнера относительно x > y:\n",
      "g1 = x**2 + 2*y**2 - 3\n",
      "g2 = x*y - y**2\n",
      "g3 = y**3 - y\n",
      "\n",
      "Базис Грёбнера 1-ого исключающего идеала:\n",
      "g3 = y**3 - y\n",
      "\n",
      "\n"
     ]
    }
   ],
   "source": [
    "F = [x**2 + 2*y**2 - 3, x**2 + x*y + y**2 - 3]           # Идеал I\n",
    "g = groebner(F, x, y, order='lex')                       # Базис Грёбнера G\n",
    "print('\\nБазис Грёбнера относительно x > y:')\n",
    "for i in range(len(g.exprs)):\n",
    "    print('g', i+1, ' = ', g.exprs[i], sep='')\n",
    "\n",
    "polys = g.exprs\n",
    "G1 = []\n",
    "index = 1\n",
    "I0 = []\n",
    "for pol in polys:\n",
    "    f = Poly(pol, y)                                     # Представим каждое выражение как полином от переменной Y\n",
    "    if f.free_symbols_in_domain != {x}:                  # Если помимо переменной Y в полиноме НЕТ свободной переменной X,\n",
    "        G1.append((f.as_expr(), index))                  # то этот полином содержится в G1\n",
    "    else:\n",
    "        I0.append((Poly(f, x), index))                   # Запомним отдельно полиномы, которые не содержатся в G1.\n",
    "    index += 1\n",
    "print('\\nБазис Грёбнера 1-ого исключающего идеала:')     \n",
    "for pol in G1:\n",
    "    print('g', pol[1], ' = ', pol[0], sep='')\n",
    "print('\\n')"
   ]
  },
  {
   "cell_type": "markdown",
   "metadata": {},
   "source": [
    "Заметим, что многочлен $g_3$ зависит только от одной переменной $y$. Мы сделали **шаг исключения**, избавившись от переменной $x$. Решив это уравнение, получим возможные значения $y$ для решения всей системы - это будет **частичным решением**.\n",
    "\n",
    "По **теореме о продолжении** следующий шаг - шаг продолжения - может не выполниться (т.е. частичное решение не верно для всей системы), если коэффициенты при старших мономах одновременно равны нулю. Сделаем проверку на это для остальных полиномов, не содержащихся в $G_1$"
   ]
  },
  {
   "cell_type": "code",
   "execution_count": 23,
   "metadata": {},
   "outputs": [
    {
     "name": "stdout",
     "output_type": "stream",
     "text": [
      "корни: [-1, 0, 1]\n",
      "корни после проверки: [-1, 0, 1] \n",
      "\n"
     ]
    }
   ],
   "source": [
    "for f in G1:\n",
    "    pol = Poly(f[0], y)\n",
    "    roots = pol.all_roots()                               # Нашли корни методом .all_roots()\n",
    "    print('корни:', roots)\n",
    "    \n",
    "for root in roots:\n",
    "    for pol in I0:\n",
    "        f = Poly(pol[0], x)\n",
    "        if root not in solve(LC(f), y):                   # Проверка, обращает ли в ноль частичное решение старшие мономы\n",
    "            break                                         # полиномов из I0\n",
    "    else:\n",
    "        roots.remove(root)\n",
    "        \n",
    "print('корни после проверки:', roots, '\\n')"
   ]
  },
  {
   "cell_type": "markdown",
   "metadata": {},
   "source": [
    "Теперь сделаем **шаг продолжения**. Найдём все решения системы и сразу определим, какие из решений рациональны."
   ]
  },
  {
   "cell_type": "code",
   "execution_count": 24,
   "metadata": {},
   "outputs": [
    {
     "name": "stdout",
     "output_type": "stream",
     "text": [
      "Все решения системы:\n",
      "(-1, -1)\n",
      "(-sqrt(3), 0)\n",
      "(sqrt(3), 0)\n",
      "(1, 1)\n",
      "\n",
      "Рациональные решения системы:\n",
      "[(-1, -1), (1, 1)]\n",
      "Наименьшее поле k такое, что все решения принадлежат k^2, - это R\n"
     ]
    }
   ],
   "source": [
    "rationals = []\n",
    "print('Все решения системы:')\n",
    "for root in roots:\n",
    "    new_polys = []\n",
    "    for pol in I0:\n",
    "        new_polys.append(pol[0].subs(y, root))            # Подставим значения частичных решений методом .subs(y,root)\n",
    "    solution = solve_poly_system(new_polys, x)            # и решим систему уравнений от одной переменной X\n",
    "    for sol in solution:\n",
    "        if sol[0].is_rational and root.is_rational:\n",
    "            rationals.append((sol[0], root))\n",
    "        else:\n",
    "            if sol[0].is_real and root.is_real:\n",
    "                real = True\n",
    "            else:\n",
    "                comp = True\n",
    "        print('(', sol[0], ', ', root, ')', sep='')\n",
    "\n",
    "print('\\nРациональные решения системы:')\n",
    "print(rationals)\n",
    "print('Наименьшее поле k такое, что все решения принадлежат k^2, - это', 'R' if real else 'C')\n"
   ]
  },
  {
   "cell_type": "code",
   "execution_count": null,
   "metadata": {},
   "outputs": [],
   "source": []
  }
 ],
 "metadata": {
  "kernelspec": {
   "display_name": "Python 3",
   "language": "python",
   "name": "python3"
  },
  "language_info": {
   "codemirror_mode": {
    "name": "ipython",
    "version": 3
   },
   "file_extension": ".py",
   "mimetype": "text/x-python",
   "name": "python",
   "nbconvert_exporter": "python",
   "pygments_lexer": "ipython3",
   "version": "3.7.3"
  }
 },
 "nbformat": 4,
 "nbformat_minor": 2
}
